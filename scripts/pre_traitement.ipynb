{
 "cells": [
  {
   "cell_type": "code",
   "execution_count": 1,
   "metadata": {},
   "outputs": [],
   "source": [
    "import os\n",
    "from osgeo import gdal\n",
    "\n",
    "band_path = \"../../data/images\"\n",
    "band_numbers = ['2', '3', '4', '5', '6', '7', '8', '8A', '11', '12']\n",
    "band_date = [\n",
    "    \"_20220326-105856-076_L2A_T31TCJ_C_V3-0_FRE_B\",\n",
    "    \"_20220405-105855-542_L2A_T31TCJ_C_V3-0_FRE_B\",\n",
    "    \"_20220714-105903-040_L2A_T31TCJ_C_V3-0_FRE_B\",\n",
    "    \"_20220922-105859-863_L2A_T31TCJ_C_V3-1_FRE_B\",\n",
    "    \"_20221111-105858-090_L2A_T31TCJ_C_V3-1_FRE_B\",\n",
    "    \"_20230219-105857-687_L2A_T31TCJ_C_V3-1_FRE_B\"\n",
    "]  # Liste des dates pour chaque image\n",
    "\n",
    "# Générer les chemins complets pour chaque bande\n",
    "band_files = [f\"{band_path}/SENTINEL2B{date}{band_number}.tif\" for date in band_date for band_number in band_numbers]\n",
    "\n",
    "# Répertoire de sortie\n",
    "out_path = \"../results/data/img_pretraitees\"\n",
    "mask_file = os.path.join(out_path, \"masque_foret.tif\")  # Fichier de masque\n",
    "\n",
    "# Paramètres de sortie\n",
    "output_file = os.path.join(out_path, \"Serie_temp_S2_allbands.tif\")\n",
    "projection = \"EPSG:2154\"\n",
    "pixel_size = 10  # Résolution spatiale en mètres\n",
    "nodata_value = 0\n",
    "out_type = \"UInt16\""
   ]
  },
  {
   "cell_type": "code",
   "execution_count": 2,
   "metadata": {},
   "outputs": [],
   "source": [
    "# Fonction pour reprojeter et rééchantillonner une bande\n",
    "def reproject_and_resample(band_file, output_file, pixel_size, projection):\n",
    "    # Ouvrir le fichier de la bande comme un dataset GDAL\n",
    "    band_ds = gdal.Open(band_file)\n",
    "    if band_ds is None:\n",
    "        raise Exception(f\"Erreur lors de l'ouverture du fichier {band_file}\")\n",
    "\n",
    "    # Reprojection et rééchantillonnage\n",
    "    gdal.Warp(\n",
    "        output_file,\n",
    "        band_ds,\n",
    "        xRes=pixel_size,\n",
    "        yRes=pixel_size,\n",
    "        dstSRS=projection,\n",
    "        dstNodata=nodata_value\n",
    "    )\n",
    "    band_ds = None  # Fermer le dataset après l'opération"
   ]
  },
  {
   "cell_type": "code",
   "execution_count": 3,
   "metadata": {},
   "outputs": [
    {
     "name": "stderr",
     "output_type": "stream",
     "text": [
      "/opt/conda/lib/python3.12/site-packages/osgeo/gdal.py:311: FutureWarning: Neither gdal.UseExceptions() nor gdal.DontUseExceptions() has been explicitly called. In GDAL 4.0, exceptions will be enabled by default.\n",
      "  warnings.warn(\n"
     ]
    }
   ],
   "source": [
    "reprojected_bands = []\n",
    "\n",
    "for date_idx, date in enumerate(band_date, start=1):  # Itérer sur chaque date\n",
    "    for band_idx, band_number in enumerate(band_numbers, start=1):  # Itérer sur chaque bande\n",
    "        band_file = f\"{band_path}/SENTINEL2B{date}{band_number}.tif\"  # Générer le chemin complet\n",
    "        reprojected_file = os.path.join(out_path, f\"date_{date_idx}_band_{band_number}_reprojected.tif\")  # Fichier de sortie\n",
    "        reproject_and_resample(band_file, reprojected_file, pixel_size, projection)  # Reprojection\n",
    "        reprojected_bands.append(reprojected_file)  # Ajouter au suivi des fichiers traités\n"
   ]
  },
  {
   "cell_type": "code",
   "execution_count": 4,
   "metadata": {},
   "outputs": [],
   "source": [
    "# Étape 2 : Reprojeter et rééchantillonner le masque forêt pour correspondre aux dimensions des bandes\n",
    "def reproject_and_resample_mask(mask_file, output_file, pixel_size, projection):\n",
    "    mask_ds = gdal.Open(mask_file)\n",
    "    if mask_ds is None:\n",
    "        raise Exception(f\"Erreur lors de l'ouverture du fichier {mask_file}\")\n",
    "    \n",
    "    # Reprojection et rééchantillonnage du masque\n",
    "    gdal.Warp(\n",
    "        output_file,\n",
    "        mask_ds,\n",
    "        xRes=pixel_size,\n",
    "        yRes=pixel_size,\n",
    "        dstSRS=projection,\n",
    "        dstNodata=nodata_value\n",
    "    )\n",
    "    mask_ds = None  # Fermer le dataset après l'opération"
   ]
  },
  {
   "cell_type": "code",
   "execution_count": 5,
   "metadata": {},
   "outputs": [],
   "source": [
    "# Reprojeter et rééchantillonner le masque\n",
    "reprojected_mask_file = os.path.join(out_path, \"masque_foret_reprojected.tif\")\n",
    "reproject_and_resample_mask(mask_file, reprojected_mask_file, pixel_size, projection)\n",
    "mask_file = reprojected_mask_file  # Remplacer par le masque reprojeté"
   ]
  },
  {
   "cell_type": "code",
   "execution_count": 6,
   "metadata": {},
   "outputs": [],
   "source": [
    "# Étape 3 : Appliquer le masque forêt à chaque bande\n",
    "masked_bands = []\n",
    "for i, band_file in enumerate(reprojected_bands):\n",
    "    masked_file = os.path.join(out_path, f\"band_{i+1}_masked.tif\")\n",
    "    gdal_calc_command = (\n",
    "        f\"gdal_calc.py -A {band_file} -B {mask_file} --outfile={masked_file} \"\n",
    "        f\"--calc=\\\"A*B\\\" --NoDataValue={nodata_value} --quiet\"\n",
    "    )\n",
    "    os.system(gdal_calc_command)\n",
    "    masked_bands.append(masked_file)"
   ]
  },
  {
   "cell_type": "code",
   "execution_count": 7,
   "metadata": {},
   "outputs": [
    {
     "name": "stdout",
     "output_type": "stream",
     "text": [
      "0...10...20...30...40...50...60...70...80...90...100 - done.\n"
     ]
    },
    {
     "data": {
      "text/plain": [
       "0"
      ]
     },
     "execution_count": 7,
     "metadata": {},
     "output_type": "execute_result"
    }
   ],
   "source": [
    "# Étape 3 : Fusionner toutes les bandes dans un seul fichier multidimensionnel\n",
    "merge_command = (\n",
    "    f\"gdal_merge.py -separate -o {output_file} \" + \" \".join(masked_bands) + f\" -a_nodata {nodata_value} -ot {out_type}\"\n",
    ")\n",
    "os.system(merge_command)\n"
   ]
  },
  {
   "cell_type": "code",
   "execution_count": 10,
   "metadata": {},
   "outputs": [
    {
     "name": "stdout",
     "output_type": "stream",
     "text": [
      "Fichier introuvable (non supprimé) : ../results/data/img_pretraitees/date_1_band_2_reprojected.tif\n",
      "Fichier introuvable (non supprimé) : ../results/data/img_pretraitees/date_1_band_3_reprojected.tif\n",
      "Fichier introuvable (non supprimé) : ../results/data/img_pretraitees/date_1_band_4_reprojected.tif\n",
      "Fichier introuvable (non supprimé) : ../results/data/img_pretraitees/date_1_band_5_reprojected.tif\n",
      "Fichier introuvable (non supprimé) : ../results/data/img_pretraitees/date_1_band_6_reprojected.tif\n",
      "Fichier introuvable (non supprimé) : ../results/data/img_pretraitees/date_1_band_7_reprojected.tif\n",
      "Fichier introuvable (non supprimé) : ../results/data/img_pretraitees/date_1_band_8_reprojected.tif\n",
      "Fichier introuvable (non supprimé) : ../results/data/img_pretraitees/date_1_band_8A_reprojected.tif\n",
      "Fichier introuvable (non supprimé) : ../results/data/img_pretraitees/date_1_band_11_reprojected.tif\n",
      "Fichier introuvable (non supprimé) : ../results/data/img_pretraitees/date_1_band_12_reprojected.tif\n",
      "Fichier introuvable (non supprimé) : ../results/data/img_pretraitees/date_2_band_2_reprojected.tif\n",
      "Fichier introuvable (non supprimé) : ../results/data/img_pretraitees/date_2_band_3_reprojected.tif\n",
      "Fichier introuvable (non supprimé) : ../results/data/img_pretraitees/date_2_band_4_reprojected.tif\n",
      "Fichier introuvable (non supprimé) : ../results/data/img_pretraitees/date_2_band_5_reprojected.tif\n",
      "Fichier introuvable (non supprimé) : ../results/data/img_pretraitees/date_2_band_6_reprojected.tif\n",
      "Fichier introuvable (non supprimé) : ../results/data/img_pretraitees/date_2_band_7_reprojected.tif\n",
      "Fichier introuvable (non supprimé) : ../results/data/img_pretraitees/date_2_band_8_reprojected.tif\n",
      "Fichier introuvable (non supprimé) : ../results/data/img_pretraitees/date_2_band_8A_reprojected.tif\n",
      "Fichier introuvable (non supprimé) : ../results/data/img_pretraitees/date_2_band_11_reprojected.tif\n",
      "Fichier introuvable (non supprimé) : ../results/data/img_pretraitees/date_2_band_12_reprojected.tif\n",
      "Fichier introuvable (non supprimé) : ../results/data/img_pretraitees/date_3_band_2_reprojected.tif\n",
      "Fichier introuvable (non supprimé) : ../results/data/img_pretraitees/date_3_band_3_reprojected.tif\n",
      "Fichier introuvable (non supprimé) : ../results/data/img_pretraitees/date_3_band_4_reprojected.tif\n",
      "Fichier introuvable (non supprimé) : ../results/data/img_pretraitees/date_3_band_5_reprojected.tif\n",
      "Fichier introuvable (non supprimé) : ../results/data/img_pretraitees/date_3_band_6_reprojected.tif\n",
      "Fichier introuvable (non supprimé) : ../results/data/img_pretraitees/date_3_band_7_reprojected.tif\n",
      "Fichier introuvable (non supprimé) : ../results/data/img_pretraitees/date_3_band_8_reprojected.tif\n",
      "Fichier introuvable (non supprimé) : ../results/data/img_pretraitees/date_3_band_8A_reprojected.tif\n",
      "Fichier introuvable (non supprimé) : ../results/data/img_pretraitees/date_3_band_11_reprojected.tif\n",
      "Fichier introuvable (non supprimé) : ../results/data/img_pretraitees/date_3_band_12_reprojected.tif\n",
      "Fichier introuvable (non supprimé) : ../results/data/img_pretraitees/date_4_band_2_reprojected.tif\n",
      "Fichier introuvable (non supprimé) : ../results/data/img_pretraitees/date_4_band_3_reprojected.tif\n",
      "Fichier introuvable (non supprimé) : ../results/data/img_pretraitees/date_4_band_4_reprojected.tif\n",
      "Fichier introuvable (non supprimé) : ../results/data/img_pretraitees/date_4_band_5_reprojected.tif\n",
      "Fichier introuvable (non supprimé) : ../results/data/img_pretraitees/date_4_band_6_reprojected.tif\n",
      "Fichier introuvable (non supprimé) : ../results/data/img_pretraitees/date_4_band_7_reprojected.tif\n",
      "Fichier introuvable (non supprimé) : ../results/data/img_pretraitees/date_4_band_8_reprojected.tif\n",
      "Fichier introuvable (non supprimé) : ../results/data/img_pretraitees/date_4_band_8A_reprojected.tif\n",
      "Fichier introuvable (non supprimé) : ../results/data/img_pretraitees/date_4_band_11_reprojected.tif\n",
      "Fichier introuvable (non supprimé) : ../results/data/img_pretraitees/date_4_band_12_reprojected.tif\n",
      "Fichier introuvable (non supprimé) : ../results/data/img_pretraitees/date_5_band_2_reprojected.tif\n",
      "Fichier introuvable (non supprimé) : ../results/data/img_pretraitees/date_5_band_3_reprojected.tif\n",
      "Fichier introuvable (non supprimé) : ../results/data/img_pretraitees/date_5_band_4_reprojected.tif\n",
      "Fichier introuvable (non supprimé) : ../results/data/img_pretraitees/date_5_band_5_reprojected.tif\n",
      "Fichier introuvable (non supprimé) : ../results/data/img_pretraitees/date_5_band_6_reprojected.tif\n",
      "Fichier introuvable (non supprimé) : ../results/data/img_pretraitees/date_5_band_7_reprojected.tif\n",
      "Fichier introuvable (non supprimé) : ../results/data/img_pretraitees/date_5_band_8_reprojected.tif\n",
      "Fichier introuvable (non supprimé) : ../results/data/img_pretraitees/date_5_band_8A_reprojected.tif\n",
      "Fichier introuvable (non supprimé) : ../results/data/img_pretraitees/date_5_band_11_reprojected.tif\n",
      "Fichier introuvable (non supprimé) : ../results/data/img_pretraitees/date_5_band_12_reprojected.tif\n",
      "Fichier introuvable (non supprimé) : ../results/data/img_pretraitees/date_6_band_2_reprojected.tif\n",
      "Fichier introuvable (non supprimé) : ../results/data/img_pretraitees/date_6_band_3_reprojected.tif\n",
      "Fichier introuvable (non supprimé) : ../results/data/img_pretraitees/date_6_band_4_reprojected.tif\n",
      "Fichier introuvable (non supprimé) : ../results/data/img_pretraitees/date_6_band_5_reprojected.tif\n",
      "Fichier introuvable (non supprimé) : ../results/data/img_pretraitees/date_6_band_6_reprojected.tif\n",
      "Fichier introuvable (non supprimé) : ../results/data/img_pretraitees/date_6_band_7_reprojected.tif\n",
      "Fichier introuvable (non supprimé) : ../results/data/img_pretraitees/date_6_band_8_reprojected.tif\n",
      "Fichier introuvable (non supprimé) : ../results/data/img_pretraitees/date_6_band_8A_reprojected.tif\n",
      "Fichier introuvable (non supprimé) : ../results/data/img_pretraitees/date_6_band_11_reprojected.tif\n",
      "Fichier introuvable (non supprimé) : ../results/data/img_pretraitees/date_6_band_12_reprojected.tif\n",
      "Fichier supprimé : ../results/data/img_pretraitees/masque_foret_reprojected.tif\n",
      "Fichier introuvable (non supprimé) : ../results/data/img_pretraitees/band_1_masked.tif\n",
      "Fichier introuvable (non supprimé) : ../results/data/img_pretraitees/band_2_masked.tif\n",
      "Fichier introuvable (non supprimé) : ../results/data/img_pretraitees/band_3_masked.tif\n",
      "Fichier introuvable (non supprimé) : ../results/data/img_pretraitees/band_4_masked.tif\n",
      "Fichier introuvable (non supprimé) : ../results/data/img_pretraitees/band_5_masked.tif\n",
      "Fichier introuvable (non supprimé) : ../results/data/img_pretraitees/band_6_masked.tif\n",
      "Fichier introuvable (non supprimé) : ../results/data/img_pretraitees/band_7_masked.tif\n",
      "Fichier introuvable (non supprimé) : ../results/data/img_pretraitees/band_8_masked.tif\n",
      "Fichier introuvable (non supprimé) : ../results/data/img_pretraitees/band_9_masked.tif\n",
      "Fichier introuvable (non supprimé) : ../results/data/img_pretraitees/band_10_masked.tif\n",
      "Fichier introuvable (non supprimé) : ../results/data/img_pretraitees/band_11_masked.tif\n",
      "Fichier introuvable (non supprimé) : ../results/data/img_pretraitees/band_12_masked.tif\n",
      "Fichier introuvable (non supprimé) : ../results/data/img_pretraitees/band_13_masked.tif\n",
      "Fichier introuvable (non supprimé) : ../results/data/img_pretraitees/band_14_masked.tif\n",
      "Fichier introuvable (non supprimé) : ../results/data/img_pretraitees/band_15_masked.tif\n",
      "Fichier introuvable (non supprimé) : ../results/data/img_pretraitees/band_16_masked.tif\n",
      "Fichier introuvable (non supprimé) : ../results/data/img_pretraitees/band_17_masked.tif\n",
      "Fichier introuvable (non supprimé) : ../results/data/img_pretraitees/band_18_masked.tif\n",
      "Fichier introuvable (non supprimé) : ../results/data/img_pretraitees/band_19_masked.tif\n",
      "Fichier introuvable (non supprimé) : ../results/data/img_pretraitees/band_20_masked.tif\n",
      "Fichier introuvable (non supprimé) : ../results/data/img_pretraitees/band_21_masked.tif\n",
      "Fichier introuvable (non supprimé) : ../results/data/img_pretraitees/band_22_masked.tif\n",
      "Fichier introuvable (non supprimé) : ../results/data/img_pretraitees/band_23_masked.tif\n",
      "Fichier introuvable (non supprimé) : ../results/data/img_pretraitees/band_24_masked.tif\n",
      "Fichier introuvable (non supprimé) : ../results/data/img_pretraitees/band_25_masked.tif\n",
      "Fichier introuvable (non supprimé) : ../results/data/img_pretraitees/band_26_masked.tif\n",
      "Fichier introuvable (non supprimé) : ../results/data/img_pretraitees/band_27_masked.tif\n",
      "Fichier introuvable (non supprimé) : ../results/data/img_pretraitees/band_28_masked.tif\n",
      "Fichier introuvable (non supprimé) : ../results/data/img_pretraitees/band_29_masked.tif\n",
      "Fichier introuvable (non supprimé) : ../results/data/img_pretraitees/band_30_masked.tif\n",
      "Fichier introuvable (non supprimé) : ../results/data/img_pretraitees/band_31_masked.tif\n",
      "Fichier introuvable (non supprimé) : ../results/data/img_pretraitees/band_32_masked.tif\n",
      "Fichier introuvable (non supprimé) : ../results/data/img_pretraitees/band_33_masked.tif\n",
      "Fichier introuvable (non supprimé) : ../results/data/img_pretraitees/band_34_masked.tif\n",
      "Fichier introuvable (non supprimé) : ../results/data/img_pretraitees/band_35_masked.tif\n",
      "Fichier introuvable (non supprimé) : ../results/data/img_pretraitees/band_36_masked.tif\n",
      "Fichier introuvable (non supprimé) : ../results/data/img_pretraitees/band_37_masked.tif\n",
      "Fichier introuvable (non supprimé) : ../results/data/img_pretraitees/band_38_masked.tif\n",
      "Fichier introuvable (non supprimé) : ../results/data/img_pretraitees/band_39_masked.tif\n",
      "Fichier introuvable (non supprimé) : ../results/data/img_pretraitees/band_40_masked.tif\n",
      "Fichier introuvable (non supprimé) : ../results/data/img_pretraitees/band_41_masked.tif\n",
      "Fichier introuvable (non supprimé) : ../results/data/img_pretraitees/band_42_masked.tif\n",
      "Fichier introuvable (non supprimé) : ../results/data/img_pretraitees/band_43_masked.tif\n",
      "Fichier introuvable (non supprimé) : ../results/data/img_pretraitees/band_44_masked.tif\n",
      "Fichier introuvable (non supprimé) : ../results/data/img_pretraitees/band_45_masked.tif\n",
      "Fichier introuvable (non supprimé) : ../results/data/img_pretraitees/band_46_masked.tif\n",
      "Fichier introuvable (non supprimé) : ../results/data/img_pretraitees/band_47_masked.tif\n",
      "Fichier introuvable (non supprimé) : ../results/data/img_pretraitees/band_48_masked.tif\n",
      "Fichier introuvable (non supprimé) : ../results/data/img_pretraitees/band_49_masked.tif\n",
      "Fichier introuvable (non supprimé) : ../results/data/img_pretraitees/band_50_masked.tif\n",
      "Fichier introuvable (non supprimé) : ../results/data/img_pretraitees/band_51_masked.tif\n",
      "Fichier introuvable (non supprimé) : ../results/data/img_pretraitees/band_52_masked.tif\n",
      "Fichier introuvable (non supprimé) : ../results/data/img_pretraitees/band_53_masked.tif\n",
      "Fichier introuvable (non supprimé) : ../results/data/img_pretraitees/band_54_masked.tif\n",
      "Fichier introuvable (non supprimé) : ../results/data/img_pretraitees/band_55_masked.tif\n",
      "Fichier introuvable (non supprimé) : ../results/data/img_pretraitees/band_56_masked.tif\n",
      "Fichier introuvable (non supprimé) : ../results/data/img_pretraitees/band_57_masked.tif\n",
      "Fichier introuvable (non supprimé) : ../results/data/img_pretraitees/band_58_masked.tif\n",
      "Fichier introuvable (non supprimé) : ../results/data/img_pretraitees/band_59_masked.tif\n",
      "Fichier introuvable (non supprimé) : ../results/data/img_pretraitees/band_60_masked.tif\n"
     ]
    }
   ],
   "source": [
    "# Listes des fichiers intermédiaires à supprimer\n",
    "intermediate_files = reprojected_bands + [reprojected_mask_file] + masked_bands\n",
    "\n",
    "# Supprimer les fichiers intermédiaires\n",
    "for file_path in intermediate_files:\n",
    "    if os.path.exists(file_path):\n",
    "        os.remove(file_path)\n",
    "        print(f\"Fichier supprimé : {file_path}\")\n",
    "    else:\n",
    "        print(f\"Fichier introuvable (non supprimé) : {file_path}\")"
   ]
  }
 ],
 "metadata": {
  "kernelspec": {
   "display_name": "base",
   "language": "python",
   "name": "python3"
  },
  "language_info": {
   "codemirror_mode": {
    "name": "ipython",
    "version": 3
   },
   "file_extension": ".py",
   "mimetype": "text/x-python",
   "name": "python",
   "nbconvert_exporter": "python",
   "pygments_lexer": "ipython3",
   "version": "3.12.6"
  }
 },
 "nbformat": 4,
 "nbformat_minor": 2
}
