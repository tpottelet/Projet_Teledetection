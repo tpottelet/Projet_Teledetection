{
 "cells": [
  {
   "cell_type": "code",
   "execution_count": 1,
   "metadata": {},
   "outputs": [
    {
     "name": "stderr",
     "output_type": "stream",
     "text": [
      "/opt/conda/lib/python3.12/site-packages/osgeo/gdal.py:311: FutureWarning: Neither gdal.UseExceptions() nor gdal.DontUseExceptions() has been explicitly called. In GDAL 4.0, exceptions will be enabled by default.\n",
      "  warnings.warn(\n"
     ]
    }
   ],
   "source": [
    "import geopandas as gpd\n",
    "import numpy as np\n",
    "from rasterstats import zonal_stats\n",
    "from osgeo import gdal\n",
    "from sklearn.metrics import confusion_matrix, classification_report\n",
    "\n",
    "# 1. Chargement des données\n",
    "vector_path = \"../results/data/sample/Sample_BD_foret_T31TCJ.shp\"\n",
    "gdf = gpd.read_file(vector_path)\n",
    "\n",
    "# Charger le raster avec GDAL\n",
    "raster_path = \"../results/data/classif/carte_essences_echelle_pixel.tif\"\n",
    "raster = gdal.Open(raster_path)"
   ]
  },
  {
   "cell_type": "code",
   "execution_count": 2,
   "metadata": {},
   "outputs": [],
   "source": [
    "# 2. Calcul de la surface des polygones en hectares\n",
    "gdf[\"Surface_ha\"] = gdf.geometry.area / 10000  # Conversion de m² en hectares"
   ]
  },
  {
   "cell_type": "code",
   "execution_count": 3,
   "metadata": {},
   "outputs": [],
   "source": [
    "# 3. Calcul des statistiques zonales\n",
    "stats = zonal_stats(\n",
    "    vector_path,\n",
    "    raster_path,\n",
    "    categorical=True,  # Permet de calculer la distribution des classes\n",
    "    geojson_out=True\n",
    ")\n",
    "\n",
    "# Ajouter les pourcentages calculés à la GeoDataFrame\n",
    "for i, stat in enumerate(stats):\n",
    "    for key, value in stat[\"properties\"].items():\n",
    "        if isinstance(key, str) and key.startswith(\"cat_\"):  # Vérifier que la clé est une chaîne de caractères\n",
    "            gdf.loc[i, key] = value"
   ]
  },
  {
   "cell_type": "code",
   "execution_count": 4,
   "metadata": {},
   "outputs": [],
   "source": [
    "# 4. Implémentation des règles de décision\n",
    "def arbre_decision(surface, df):\n",
    "    # Définir les listes des types de feuillus et de conifères\n",
    "    feuillus_types = ['Autre feuillus', 'Chêne', 'Robinier', 'Peupleraie']\n",
    "    coniferes_types = ['Autres conifères', 'Autres pin', 'Douglas', 'Pin laricio', 'Pin noir', 'Pin maritime']\n",
    "\n",
    "    # Compter les occurrences de chaque type d'arbre dans la colonne Nom_pixel\n",
    "    total_pixels = len(df)\n",
    "    feuillus_count = df['Nom_pixel'].isin(feuillus_types).sum()\n",
    "    coniferes_count = df['Nom_pixel'].isin(coniferes_types).sum()\n",
    "\n",
    "    # Calculer les pourcentages des feuillus et des conifères\n",
    "    somme_feuillus = (feuillus_count / total_pixels) * 100\n",
    "    somme_coniferes = (coniferes_count / total_pixels) * 100\n",
    "\n",
    "    # Règle 1 : Surface < 2ha ?\n",
    "    if surface < 2:\n",
    "        # Règle 2a : Somme des feuillus > 75%\n",
    "        if somme_feuillus > 75:\n",
    "            # Règle 3aa : Feuillus en îlots\n",
    "            return \"Feuillus en îlots\"\n",
    "        else:\n",
    "            # Règle 3ab : Somme des conifères > 75% ?\n",
    "            if somme_coniferes > 75:\n",
    "                # Règle 4aba : Conifères en îlots\n",
    "                return \"Conifères en îlots\"\n",
    "            else:\n",
    "                # Règle 4abb : Somme des conifères > Somme des feuillus ?\n",
    "                if somme_coniferes > somme_feuillus:\n",
    "                    return \"Mélange feuillus\"\n",
    "                else:\n",
    "                    # Règle 4bba : Mélange feuillus\n",
    "                    return \"Mélange feuillus\"\n",
    "    else:\n",
    "        # Règle 2b : Classe C > 75% ?\n",
    "        cat_1 = df.get(\"cat_1\", 0)  # Classe 1\n",
    "        if cat_1 > 75:\n",
    "            # Règle 3ba : Polygone en classe C\n",
    "            return \"Polygone en classe C\"\n",
    "        else:\n",
    "            # Règle 3ab : Somme des conifères > 75% ?\n",
    "            if somme_coniferes > 75:\n",
    "                # Règle 4bba : Mélange feuillus\n",
    "                return \"Mélange feuillus\"\n",
    "            else:\n",
    "                # Règle 4bb : Somme des feuillus > 75% ?\n",
    "                if somme_feuillus > 75:\n",
    "                    # Règle 5abba : Mélange de conifères prépondérants et feuillus\n",
    "                    return \"Mélange de conifères prépondérants et feuillus\"\n",
    "                else:\n",
    "                    # Règle 5abbb : Mélange de feuillus prépondérants et conifères\n",
    "                    return \"Mélange de feuillus prépondérants et conifères\"\n",
    "\n",
    "    # Règle 6bbbba : Mélange de conifères prépondérants et feuillus\n",
    "    return \"Mélange de conifères prépondérants et feuillus\""
   ]
  },
  {
   "cell_type": "code",
   "execution_count": 5,
   "metadata": {},
   "outputs": [],
   "source": [
    "# Fonction de classification qui applique les règles de décision\n",
    "def classify_peuplement(row):\n",
    "    surface_ha = row[\"Surface_ha\"]\n",
    "    \n",
    "    # Extrait le DataFrame correspondant à chaque polygone pour les statistiques zonales\n",
    "    stats_df = gdf[gdf[\"geometry\"] == row[\"geometry\"]]\n",
    "\n",
    "    # Appeler l'arb\n",
    "    return arbre_decision(surface_ha, stats_df)\n",
    "\n",
    "# Appliquer la classification à chaque ligne\n",
    "gdf[\"code_predit\"] = gdf.apply(classify_peuplement, axis=1)"
   ]
  },
  {
   "cell_type": "code",
   "execution_count": 6,
   "metadata": {},
   "outputs": [
    {
     "name": "stdout",
     "output_type": "stream",
     "text": [
      "Analyse initiale :\n",
      "Nombre de valeurs NaN dans Nom_pixel : 8303\n",
      "Nombre de valeurs NaN dans Nom_objet : 0\n",
      "Lignes avec des erreurs de correspondance entre code_predit et Nom_objet :\n",
      "Les types de y_true et y_pred diffèrent. Conversion nécessaire.\n"
     ]
    },
    {
     "name": "stderr",
     "output_type": "stream",
     "text": [
      "/opt/conda/lib/python3.12/site-packages/geopandas/geodataframe.py:1819: SettingWithCopyWarning: \n",
      "A value is trying to be set on a copy of a slice from a DataFrame.\n",
      "Try using .loc[row_indexer,col_indexer] = value instead\n",
      "\n",
      "See the caveats in the documentation: https://pandas.pydata.org/pandas-docs/stable/user_guide/indexing.html#returning-a-view-versus-a-copy\n",
      "  super().__setitem__(key, value)\n",
      "/opt/conda/lib/python3.12/site-packages/sklearn/metrics/_classification.py:1531: UndefinedMetricWarning: Precision is ill-defined and being set to 0.0 in labels with no predicted samples. Use `zero_division` parameter to control this behavior.\n",
      "  _warn_prf(average, modifier, f\"{metric.capitalize()} is\", len(result))\n",
      "/opt/conda/lib/python3.12/site-packages/sklearn/metrics/_classification.py:1531: UndefinedMetricWarning: Recall is ill-defined and being set to 0.0 in labels with no true samples. Use `zero_division` parameter to control this behavior.\n",
      "  _warn_prf(average, modifier, f\"{metric.capitalize()} is\", len(result))\n"
     ]
    },
    {
     "name": "stdout",
     "output_type": "stream",
     "text": [
      "Matrice de confusion :\n",
      "[[0 0 0 0 0 0 0 0 0 0]\n",
      " [0 0 0 0 0 0 0 0 0 0]\n",
      " [0 0 0 0 0 0 0 0 0 0]\n",
      " [0 0 0 0 0 0 0 0 0 0]\n",
      " [0 0 0 0 0 0 0 0 0 0]\n",
      " [0 0 0 0 0 0 0 0 0 0]\n",
      " [0 0 0 0 0 0 0 0 0 0]\n",
      " [0 0 0 0 0 0 0 0 0 0]\n",
      " [0 0 0 0 0 0 0 0 0 0]\n",
      " [0 0 0 0 0 0 0 0 0 0]]\n",
      "\n",
      "Rapport de classification :\n",
      "                                                precision    recall  f1-score   support\n",
      "\n",
      "                                          11.0       0.00      0.00      0.00     128.0\n",
      "                                          12.0       0.00      0.00      0.00    2172.0\n",
      "                                          13.0       0.00      0.00      0.00      56.0\n",
      "                                          14.0       0.00      0.00      0.00     172.0\n",
      "                                          21.0       0.00      0.00      0.00       5.0\n",
      "                                          22.0       0.00      0.00      0.00       8.0\n",
      "                                          23.0       0.00      0.00      0.00      18.0\n",
      "                                          24.0       0.00      0.00      0.00      97.0\n",
      "                                          25.0       0.00      0.00      0.00      23.0\n",
      "                            Conifères en îlots       0.00      0.00      0.00       0.0\n",
      "                             Feuillus en îlots       0.00      0.00      0.00       0.0\n",
      "Mélange de conifères prépondérants et feuillus       0.00      0.00      0.00       0.0\n",
      "Mélange de feuillus prépondérants et conifères       0.00      0.00      0.00       0.0\n",
      "                              Mélange feuillus       0.00      0.00      0.00       0.0\n",
      "                                           nan       0.00      0.00      0.00    8303.0\n",
      "\n",
      "                                      accuracy                           0.00   10982.0\n",
      "                                     macro avg       0.00      0.00      0.00   10982.0\n",
      "                                  weighted avg       0.00      0.00      0.00   10982.0\n",
      "\n"
     ]
    },
    {
     "name": "stderr",
     "output_type": "stream",
     "text": [
      "/opt/conda/lib/python3.12/site-packages/sklearn/metrics/_classification.py:1531: UndefinedMetricWarning: Precision is ill-defined and being set to 0.0 in labels with no predicted samples. Use `zero_division` parameter to control this behavior.\n",
      "  _warn_prf(average, modifier, f\"{metric.capitalize()} is\", len(result))\n",
      "/opt/conda/lib/python3.12/site-packages/sklearn/metrics/_classification.py:1531: UndefinedMetricWarning: Recall is ill-defined and being set to 0.0 in labels with no true samples. Use `zero_division` parameter to control this behavior.\n",
      "  _warn_prf(average, modifier, f\"{metric.capitalize()} is\", len(result))\n",
      "/opt/conda/lib/python3.12/site-packages/sklearn/metrics/_classification.py:1531: UndefinedMetricWarning: Precision is ill-defined and being set to 0.0 in labels with no predicted samples. Use `zero_division` parameter to control this behavior.\n",
      "  _warn_prf(average, modifier, f\"{metric.capitalize()} is\", len(result))\n",
      "/opt/conda/lib/python3.12/site-packages/sklearn/metrics/_classification.py:1531: UndefinedMetricWarning: Recall is ill-defined and being set to 0.0 in labels with no true samples. Use `zero_division` parameter to control this behavior.\n",
      "  _warn_prf(average, modifier, f\"{metric.capitalize()} is\", len(result))\n"
     ]
    }
   ],
   "source": [
    "# Étape 1 : Vérifier les champs Nom_pixel et Nom_objet\n",
    "print(\"Analyse initiale :\")\n",
    "print(f\"Nombre de valeurs NaN dans Nom_pixel : {gdf['Nom_pixel'].isna().sum()}\")\n",
    "print(f\"Nombre de valeurs NaN dans Nom_objet : {gdf['Nom_objet'].isna().sum()}\")\n",
    "\n",
    "# Étape 2 : Filtrer les lignes où Nom_pixel est vide\n",
    "gdf_vide = gdf[gdf[\"Nom_pixel\"].isna()]\n",
    "\n",
    "# Étape 3 : Comparer les prédictions (code_predit) avec Nom_objet\n",
    "gdf_vide[\"Correspondance\"] = gdf_vide[\"code_predit\"] == gdf_vide[\"Nom_objet\"]\n",
    "\n",
    "# Analyse des erreurs\n",
    "erreurs = gdf_vide[gdf_vide[\"Correspondance\"] == False]\n",
    "print(\"Lignes avec des erreurs de correspondance entre code_predit et Nom_objet :\")\n",
    "\n",
    "# Étape 5 : Vérifier les prédictions\n",
    "y_true = gdf[\"Code_pixel\"]\n",
    "y_pred = gdf[\"code_predit\"]\n",
    "\n",
    "# Vérifier les types pour éviter des problèmes dans sklearn\n",
    "if y_true.dtype != y_pred.dtype:\n",
    "    print(\"Les types de y_true et y_pred diffèrent. Conversion nécessaire.\")\n",
    "    y_true = y_true.astype(str)\n",
    "    y_pred = y_pred.astype(str)\n",
    "\n",
    "# Calculer la matrice de confusion et le rapport de classification\n",
    "conf_matrix = confusion_matrix(y_true, y_pred, labels=np.unique(y_true))\n",
    "report = classification_report(y_true, y_pred)\n",
    "\n",
    "print(\"Matrice de confusion :\")\n",
    "print(conf_matrix)\n",
    "\n",
    "print(\"\\nRapport de classification :\")\n",
    "print(report)\n",
    "\n"
   ]
  }
 ],
 "metadata": {
  "kernelspec": {
   "display_name": "base",
   "language": "python",
   "name": "python3"
  },
  "language_info": {
   "codemirror_mode": {
    "name": "ipython",
    "version": 3
   },
   "file_extension": ".py",
   "mimetype": "text/x-python",
   "name": "python",
   "nbconvert_exporter": "python",
   "pygments_lexer": "ipython3",
   "version": "3.12.6"
  }
 },
 "nbformat": 4,
 "nbformat_minor": 2
}
