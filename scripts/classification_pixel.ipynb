{
 "cells": [
  {
   "cell_type": "code",
   "execution_count": null,
   "metadata": {},
   "outputs": [],
   "source": [
    "import sys\n",
    "sys.path.append('/home/onyxia/work/libsigma')\n",
    "import numpy as np\n",
    "import geopandas as gpd\n",
    "from osgeo import gdal, ogr\n",
    "from sklearn.model_selection import train_test_split\n",
    "from sklearn.ensemble import RandomForestClassifier\n",
    "from sklearn.metrics import classification_report, accuracy_score\n",
    "from sklearn.model_selection import StratifiedKFold\n",
    "from sklearn.metrics import accuracy_score, classification_report\n",
    "import classification as cla\n",
    "import os\n",
    "\n",
    "# define parameters\n",
    "shp_path = '../results/data/sample/Sample_BD_foret_T31TCJ.shp'\n",
    "raster_path = '../results/data/img_pretraitees/Serie_temp_S2_ndvi.tif'\n",
    "raster_temp_path = '../results/data/classif/raster_temp.tif'\n",
    "output_path = '../results/data/classif/carte_essences_echelle_pixel.tif'\n",
    "field_name = 'Code_pixel'  # field containing the numeric label of the classes"
   ]
  },
  {
   "cell_type": "code",
   "execution_count": null,
   "metadata": {},
   "outputs": [
    {
     "name": "stdout",
     "output_type": "stream",
     "text": [
      "0...10...20...30...40...50...60...70...80...90...100 - done.\n"
     ]
    },
    {
     "data": {
      "text/plain": [
       "0"
      ]
     },
     "execution_count": 16,
     "metadata": {},
     "output_type": "execute_result"
    }
   ],
   "source": [
    "# for those parameters, you know how to get theses information if you had to\n",
    "raster = gdal.Open(raster_path)\n",
    "spatial_resolution = 10\n",
    "geo_transform = raster.GetGeoTransform()\n",
    "    \n",
    "# Calculer les coordonnées xmin, ymin, xmax, ymax\n",
    "xmin_ref = geo_transform[0]\n",
    "ymax_ref = geo_transform[3]\n",
    "xmax_ref = xmin_ref + geo_transform[1] * raster.RasterXSize\n",
    "ymin_ref = ymax_ref + geo_transform[5] * raster.RasterYSize\n",
    "\n",
    "# Maintenant, utilisez ces coordonnées dans la commande gdal_rasterize\n",
    "cmd_pattern = (\"gdal_rasterize -a {field_name} \"\n",
    "                \"-tr {spatial_resolution} {spatial_resolution} \"\n",
    "                \"-te {xmin} {ymin} {xmax} {ymax} -ot Byte -of GTiff \"\n",
    "                \"{in_vector} {out_image}\")\n",
    "\n",
    "# Remplir la commande avec les paramètres\n",
    "cmd = cmd_pattern.format(in_vector=shp_path, xmin=xmin_ref, ymin=ymin_ref, xmax=xmax_ref,\n",
    "                        ymax=ymax_ref, out_image=raster_temp_path, field_name=field_name,\n",
    "                        spatial_resolution=spatial_resolution)\n",
    "                    \n",
    "os.system(cmd)"
   ]
  },
  {
   "cell_type": "code",
   "execution_count": null,
   "metadata": {},
   "outputs": [
    {
     "name": "stderr",
     "output_type": "stream",
     "text": [
      "/opt/conda/lib/python3.12/site-packages/osgeo/gdal.py:311: FutureWarning: Neither gdal.UseExceptions() nor gdal.DontUseExceptions() has been explicitly called. In GDAL 4.0, exceptions will be enabled by default.\n",
      "  warnings.warn(\n"
     ]
    },
    {
     "name": "stdout",
     "output_type": "stream",
     "text": [
      "(2468380, 6)\n",
      "(2468380, 1)\n"
     ]
    }
   ],
   "source": [
    "X, Y, t = cla.get_samples_from_roi(raster_path, raster_temp_path)\n",
    "print(X.shape)\n",
    "print(Y.shape)\n",
    "# split samples\n",
    "X_train, X_test, Y_train, Y_test = train_test_split(X, Y, test_size=0.5)"
   ]
  },
  {
   "cell_type": "code",
   "execution_count": null,
   "metadata": {},
   "outputs": [
    {
     "name": "stderr",
     "output_type": "stream",
     "text": [
      "/opt/conda/lib/python3.12/site-packages/sklearn/base.py:1473: DataConversionWarning: A column-vector y was passed when a 1d array was expected. Please change the shape of y to (n_samples,), for example using ravel().\n",
      "  return fit_method(estimator, *args, **kwargs)\n"
     ]
    },
    {
     "name": "stdout",
     "output_type": "stream",
     "text": [
      "Précision du modèle : 0.91\n",
      "\n",
      "Rapport de classification :\n",
      "              precision    recall  f1-score   support\n",
      "\n",
      "          11       0.78      0.29      0.42     35405\n",
      "          12       0.94      0.97      0.96   1112751\n",
      "          13       0.78      0.08      0.15     10986\n",
      "          14       0.83      0.27      0.41     26932\n",
      "          21       0.01      0.27      0.01       714\n",
      "          22       0.81      0.16      0.27      1979\n",
      "          23       0.83      0.59      0.69     10873\n",
      "          24       0.70      0.48      0.57     26215\n",
      "          25       0.70      0.45      0.55      8335\n",
      "\n",
      "    accuracy                           0.91   1234190\n",
      "   macro avg       0.71      0.40      0.45   1234190\n",
      "weighted avg       0.92      0.91      0.91   1234190\n",
      "\n",
      "\n",
      "Score OOB : 0.91\n"
     ]
    }
   ],
   "source": [
    "rf_classifier = RandomForestClassifier(\n",
    "    max_depth=50,          # Profondeur maximale de l'arbre\n",
    "    oob_score=True,        # Utilisation de l'échantillonnage en dehors de la sac (Out-of-Bag)\n",
    "    max_samples=0.75,      # Utilisation de 75% des échantillons pour chaque arbre\n",
    "    class_weight='balanced',  # Rééquilibrage des classes\n",
    ")\n",
    "\n",
    "# Entraîner le modèle sur les données d'entraînement\n",
    "rf_classifier.fit(X_train, Y_train)\n",
    "\n",
    "# Prédire les étiquettes pour l'ensemble de test\n",
    "Y_pred = rf_classifier.predict(X_test)\n",
    "\n",
    "# Évaluer la performance du modèle\n",
    "accuracy = accuracy_score(Y_test, Y_pred)\n",
    "print(f\"Précision du modèle : {accuracy:.2f}\")\n",
    "\n",
    "# Afficher le rapport de classification\n",
    "print(\"\\nRapport de classification :\")\n",
    "print(classification_report(Y_test, Y_pred))\n",
    "\n",
    "# Afficher le score OOB (out-of-bag)\n",
    "print(f\"\\nScore OOB : {rf_classifier.oob_score_:.2f}\")"
   ]
  },
  {
   "cell_type": "code",
   "execution_count": null,
   "metadata": {},
   "outputs": [
    {
     "name": "stdout",
     "output_type": "stream",
     "text": [
      "Répetition 1/30\n"
     ]
    },
    {
     "name": "stderr",
     "output_type": "stream",
     "text": [
      "/opt/conda/lib/python3.12/site-packages/sklearn/base.py:1473: DataConversionWarning: A column-vector y was passed when a 1d array was expected. Please change the shape of y to (n_samples,), for example using ravel().\n",
      "  return fit_method(estimator, *args, **kwargs)\n",
      "/opt/conda/lib/python3.12/site-packages/sklearn/base.py:1473: DataConversionWarning: A column-vector y was passed when a 1d array was expected. Please change the shape of y to (n_samples,), for example using ravel().\n",
      "  return fit_method(estimator, *args, **kwargs)\n"
     ]
    }
   ],
   "source": [
    "n_splits = 5\n",
    "n_repeats = 5\n",
    "skf = StratifiedKFold(n_splits=n_splits, shuffle=True, random_state=42)\n",
    "\n",
    "# Variables pour stocker les résultats\n",
    "accuracies = []\n",
    "classification_reports = []\n",
    "\n",
    "for repeat in range(n_repeats):\n",
    "    print(f\"Répetition {repeat+1}/{n_repeats}\")\n",
    "    \n",
    "    # Initialisation des variables pour chaque répétition\n",
    "    fold_accuracies = []\n",
    "    fold_reports = []\n",
    "\n",
    "    for train_index, test_index in skf.split(X, Y):\n",
    "        # Obtenez les indices d'entraînement et de test\n",
    "        X_train, X_test = X[train_index], X[test_index]\n",
    "        Y_train, Y_test = Y[train_index], Y[test_index]\n",
    "        \n",
    "        # Entraîner le modèle\n",
    "        rf_classifier.fit(X_train, Y_train)\n",
    "        \n",
    "        # Prédictions\n",
    "        Y_pred = rf_classifier.predict(X_test)\n",
    "        \n",
    "        # Calcul des performances pour chaque fold\n",
    "        fold_accuracies.append(accuracy_score(Y_test, Y_pred))\n",
    "        fold_reports.append(classification_report(Y_test, Y_pred, output_dict=True))\n",
    "    \n",
    "    # Moyenne des performances sur les folds pour cette répétition\n",
    "    accuracies.append(np.mean(fold_accuracies))\n",
    "    \n",
    "    # Moyenne des rapports de classification (précision, rappel, f1) sur les folds\n",
    "    avg_report = {label: np.mean([fold_report[label]['f1-score'] for fold_report in fold_reports]) \n",
    "                  for label in fold_reports[0].keys() if label != 'accuracy'}\n",
    "    classification_reports.append(avg_report)\n",
    "    \n",
    "# Calcul des moyennes sur les répétitions\n",
    "mean_accuracy = np.mean(accuracies)\n",
    "std_accuracy = np.std(accuracies)\n",
    "\n",
    "# Moyenne des f1-scores sur toutes les répétitions\n",
    "mean_classification_report = {key: np.mean([report[key] for report in classification_reports])\n",
    "                              for key in classification_reports[0]}\n",
    "\n",
    "# Affichage des résultats\n",
    "print(f\"Précision moyenne : {mean_accuracy:.2f} ± {std_accuracy:.2f}\")\n",
    "print(\"\\nMoyenne des F1-scores par classe :\")\n",
    "for class_label, f1_score in mean_classification_report.items():\n",
    "    print(f\"{class_label}: {f1_score:.2f}\")"
   ]
  },
  {
   "cell_type": "code",
   "execution_count": 4,
   "metadata": {},
   "outputs": [
    {
     "name": "stderr",
     "output_type": "stream",
     "text": [
      "/opt/conda/lib/python3.12/site-packages/sklearn/base.py:1473: DataConversionWarning: A column-vector y was passed when a 1d array was expected. Please change the shape of y to (n_samples,), for example using ravel().\n",
      "  return fit_method(estimator, *args, **kwargs)\n"
     ]
    },
    {
     "name": "stdout",
     "output_type": "stream",
     "text": [
      "Carte des essences enregistrée sous : ../results/data/classif/carte_essences_echelle_pixel.tif\n"
     ]
    }
   ],
   "source": [
    "# Étape 1 : Entraîner le modèle sur tous les échantillons disponibles\n",
    "rf_classifier.fit(X, Y)\n",
    "\n",
    "# Étape 2 : Charger l'image raster et préparer les données pour prédiction\n",
    "raster = gdal.Open(raster_path)\n",
    "cols = raster.RasterXSize\n",
    "rows = raster.RasterYSize\n",
    "bands = raster.RasterCount\n",
    "geo_transform = raster.GetGeoTransform()\n",
    "projection = raster.GetProjection()\n",
    "\n",
    "# Lire toutes les bandes en tant que tableau\n",
    "raster_array = raster.ReadAsArray().astype(np.float32)  # Assurez-vous que les valeurs sont bien des float\n",
    "\n",
    "# Réorganiser les dimensions pour avoir (nb_pixels, nb_bandes)\n",
    "data_for_prediction = raster_array.reshape(bands, -1).T\n",
    "\n",
    "# Étape 3 : Prédire les classes pour chaque pixel\n",
    "predicted_classes = rf_classifier.predict(data_for_prediction)\n",
    "\n",
    "# Reshape des prédictions pour correspondre à l'image d'origine\n",
    "predicted_classes = predicted_classes.reshape(rows, cols)\n",
    "\n",
    "# Étape 4 : Écrire la carte des essences en sortie\n",
    "output_path = '../results/data/classif/carte_essences_echelle_pixel.tif'\n",
    "driver = gdal.GetDriverByName('GTiff')\n",
    "output_raster = driver.Create(output_path, cols, rows, 1, gdal.GDT_Byte)\n",
    "\n",
    "# Définir les propriétés spatiales\n",
    "output_raster.SetGeoTransform(geo_transform)\n",
    "output_raster.SetProjection(projection)\n",
    "\n",
    "# Ajouter la bande et écrire les données prédictes\n",
    "output_band = output_raster.GetRasterBand(1)\n",
    "output_band.WriteArray(predicted_classes)\n",
    "\n",
    "# Fixer la valeur de nodata à 0\n",
    "output_band.SetNoDataValue(0)\n",
    "\n",
    "# Fermer le fichier\n",
    "output_band.FlushCache()\n",
    "output_raster = None\n",
    "\n",
    "print(f\"Carte des essences enregistrée sous : {output_path}\")"
   ]
  }
 ],
 "metadata": {
  "kernelspec": {
   "display_name": "base",
   "language": "python",
   "name": "python3"
  },
  "language_info": {
   "codemirror_mode": {
    "name": "ipython",
    "version": 3
   },
   "file_extension": ".py",
   "mimetype": "text/x-python",
   "name": "python",
   "nbconvert_exporter": "python",
   "pygments_lexer": "ipython3",
   "version": "3.12.6"
  }
 },
 "nbformat": 4,
 "nbformat_minor": 2
}
