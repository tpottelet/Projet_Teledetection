{
 "cells": [
  {
   "cell_type": "code",
   "execution_count": null,
   "metadata": {},
   "outputs": [
    {
     "name": "stdout",
     "output_type": "stream",
     "text": [
      "BD Forêt chargée\n",
      "Nombre de polygones après filtrage des codes TFV : 17132\n",
      "Vecteur filtré sauvegardé temporairement\n",
      "Rasterisation en cours...\n",
      "otbcli_Rasterization -in ../results/data/sample/filtered_bd_foret.shp -im ../../data/images/SENTINEL2B_20220326-105856-076_L2A_T31TCJ_C_V3-0_FRE_B2.tif -out ../results/data/sample/rasterized_vector.tif -mode attribute -mode.attribute.field TFV\n"
     ]
    },
    {
     "ename": "CalledProcessError",
     "evalue": "Command 'otbcli_Rasterization -in ../results/data/sample/filtered_bd_foret.shp -im ../../data/images/SENTINEL2B_20220326-105856-076_L2A_T31TCJ_C_V3-0_FRE_B2.tif -out ../results/data/sample/rasterized_vector.tif -mode attribute -mode.attribute.field TFV' returned non-zero exit status 127.",
     "output_type": "error",
     "traceback": [
      "\u001b[0;31m---------------------------------------------------------------------------\u001b[0m",
      "\u001b[0;31mCalledProcessError\u001b[0m                        Traceback (most recent call last)",
      "Cell \u001b[0;32mIn[3], line 76\u001b[0m\n\u001b[1;32m     73\u001b[0m     \u001b[38;5;28mprint\u001b[39m(\u001b[38;5;124m\"\u001b[39m\u001b[38;5;124mFichiers temporaires supprimés\u001b[39m\u001b[38;5;124m\"\u001b[39m)\n\u001b[1;32m     75\u001b[0m \u001b[38;5;66;03m# --- Exécution du code ---\u001b[39;00m\n\u001b[0;32m---> 76\u001b[0m \u001b[43mrasterize_and_sample\u001b[49m\u001b[43m(\u001b[49m\u001b[43mBD_FORET_PATH\u001b[49m\u001b[43m,\u001b[49m\u001b[43m \u001b[49m\u001b[43mRASTER_S2_PATH\u001b[49m\u001b[43m,\u001b[49m\u001b[43m \u001b[49m\u001b[43mRASTERIZED_VECTOR_PATH\u001b[49m\u001b[43m,\u001b[49m\u001b[43m \u001b[49m\u001b[43mOUTPUT_SAMPLES_PATH\u001b[49m\u001b[43m,\u001b[49m\u001b[43m \u001b[49m\u001b[43mCODE_TFV_VALUES\u001b[49m\u001b[43m)\u001b[49m\n",
      "Cell \u001b[0;32mIn[3], line 58\u001b[0m, in \u001b[0;36mrasterize_and_sample\u001b[0;34m(bd_foret_path, raster_s2_path, rasterized_vector_path, output_samples_path, code_tfv_values)\u001b[0m\n\u001b[1;32m     56\u001b[0m \u001b[38;5;66;03m# Rasteriser le vecteur filtré en utilisant la fonction rasterization\u001b[39;00m\n\u001b[1;32m     57\u001b[0m \u001b[38;5;28mprint\u001b[39m(\u001b[38;5;124m\"\u001b[39m\u001b[38;5;124mRasterisation en cours...\u001b[39m\u001b[38;5;124m\"\u001b[39m)\n\u001b[0;32m---> 58\u001b[0m \u001b[43mrasterization\u001b[49m\u001b[43m(\u001b[49m\u001b[43mfiltered_vector_path\u001b[49m\u001b[43m,\u001b[49m\u001b[43m \u001b[49m\u001b[43mraster_s2_path\u001b[49m\u001b[43m,\u001b[49m\u001b[43m \u001b[49m\u001b[43mrasterized_vector_path\u001b[49m\u001b[43m,\u001b[49m\u001b[43m \u001b[49m\u001b[43mfield_name\u001b[49m\u001b[38;5;241;43m=\u001b[39;49m\u001b[38;5;124;43m\"\u001b[39;49m\u001b[38;5;124;43mTFV\u001b[39;49m\u001b[38;5;124;43m\"\u001b[39;49m\u001b[43m)\u001b[49m\n\u001b[1;32m     59\u001b[0m \u001b[38;5;28mprint\u001b[39m(\u001b[38;5;124m\"\u001b[39m\u001b[38;5;124mRasterisation terminée\u001b[39m\u001b[38;5;124m\"\u001b[39m)\n\u001b[1;32m     61\u001b[0m \u001b[38;5;66;03m# Extraire les échantillons avec la fonction get_samples_from_roi\u001b[39;00m\n",
      "File \u001b[0;32m~/work/Projet_Teledetection/scripts/../../libsigma/classification.py:27\u001b[0m, in \u001b[0;36mrasterization\u001b[0;34m(in_vector, ref_image, out_image, field_name, dtype)\u001b[0m\n\u001b[1;32m     24\u001b[0m \u001b[38;5;28mprint\u001b[39m(cmd)\n\u001b[1;32m     26\u001b[0m \u001b[38;5;66;03m# pour python >= 3.7\u001b[39;00m\n\u001b[0;32m---> 27\u001b[0m result \u001b[38;5;241m=\u001b[39m \u001b[43msubprocess\u001b[49m\u001b[38;5;241;43m.\u001b[39;49m\u001b[43mcheck_output\u001b[49m\u001b[43m(\u001b[49m\u001b[43mcmd\u001b[49m\u001b[43m,\u001b[49m\u001b[43m \u001b[49m\u001b[43mshell\u001b[49m\u001b[38;5;241;43m=\u001b[39;49m\u001b[38;5;28;43;01mTrue\u001b[39;49;00m\u001b[43m,\u001b[49m\u001b[43m \u001b[49m\u001b[43mstderr\u001b[49m\u001b[38;5;241;43m=\u001b[39;49m\u001b[43msubprocess\u001b[49m\u001b[38;5;241;43m.\u001b[39;49m\u001b[43mSTDOUT\u001b[49m\u001b[43m)\u001b[49m\n\u001b[1;32m     28\u001b[0m \u001b[38;5;28mprint\u001b[39m(result\u001b[38;5;241m.\u001b[39mdecode())\n",
      "File \u001b[0;32m/opt/conda/lib/python3.12/subprocess.py:466\u001b[0m, in \u001b[0;36mcheck_output\u001b[0;34m(timeout, *popenargs, **kwargs)\u001b[0m\n\u001b[1;32m    463\u001b[0m         empty \u001b[38;5;241m=\u001b[39m \u001b[38;5;124mb\u001b[39m\u001b[38;5;124m'\u001b[39m\u001b[38;5;124m'\u001b[39m\n\u001b[1;32m    464\u001b[0m     kwargs[\u001b[38;5;124m'\u001b[39m\u001b[38;5;124minput\u001b[39m\u001b[38;5;124m'\u001b[39m] \u001b[38;5;241m=\u001b[39m empty\n\u001b[0;32m--> 466\u001b[0m \u001b[38;5;28;01mreturn\u001b[39;00m \u001b[43mrun\u001b[49m\u001b[43m(\u001b[49m\u001b[38;5;241;43m*\u001b[39;49m\u001b[43mpopenargs\u001b[49m\u001b[43m,\u001b[49m\u001b[43m \u001b[49m\u001b[43mstdout\u001b[49m\u001b[38;5;241;43m=\u001b[39;49m\u001b[43mPIPE\u001b[49m\u001b[43m,\u001b[49m\u001b[43m \u001b[49m\u001b[43mtimeout\u001b[49m\u001b[38;5;241;43m=\u001b[39;49m\u001b[43mtimeout\u001b[49m\u001b[43m,\u001b[49m\u001b[43m \u001b[49m\u001b[43mcheck\u001b[49m\u001b[38;5;241;43m=\u001b[39;49m\u001b[38;5;28;43;01mTrue\u001b[39;49;00m\u001b[43m,\u001b[49m\n\u001b[1;32m    467\u001b[0m \u001b[43m           \u001b[49m\u001b[38;5;241;43m*\u001b[39;49m\u001b[38;5;241;43m*\u001b[39;49m\u001b[43mkwargs\u001b[49m\u001b[43m)\u001b[49m\u001b[38;5;241m.\u001b[39mstdout\n",
      "File \u001b[0;32m/opt/conda/lib/python3.12/subprocess.py:571\u001b[0m, in \u001b[0;36mrun\u001b[0;34m(input, capture_output, timeout, check, *popenargs, **kwargs)\u001b[0m\n\u001b[1;32m    569\u001b[0m     retcode \u001b[38;5;241m=\u001b[39m process\u001b[38;5;241m.\u001b[39mpoll()\n\u001b[1;32m    570\u001b[0m     \u001b[38;5;28;01mif\u001b[39;00m check \u001b[38;5;129;01mand\u001b[39;00m retcode:\n\u001b[0;32m--> 571\u001b[0m         \u001b[38;5;28;01mraise\u001b[39;00m CalledProcessError(retcode, process\u001b[38;5;241m.\u001b[39margs,\n\u001b[1;32m    572\u001b[0m                                  output\u001b[38;5;241m=\u001b[39mstdout, stderr\u001b[38;5;241m=\u001b[39mstderr)\n\u001b[1;32m    573\u001b[0m \u001b[38;5;28;01mreturn\u001b[39;00m CompletedProcess(process\u001b[38;5;241m.\u001b[39margs, retcode, stdout, stderr)\n",
      "\u001b[0;31mCalledProcessError\u001b[0m: Command 'otbcli_Rasterization -in ../results/data/sample/filtered_bd_foret.shp -im ../../data/images/SENTINEL2B_20220326-105856-076_L2A_T31TCJ_C_V3-0_FRE_B2.tif -out ../results/data/sample/rasterized_vector.tif -mode attribute -mode.attribute.field TFV' returned non-zero exit status 127."
     ]
    }
   ],
   "source": [
    "import sys\n",
    "sys.path.append('../../libsigma')\n",
    "import geopandas as gpd\n",
    "from osgeo import gdal\n",
    "from shapely.geometry import box\n",
    "from classification import rasterization, get_samples_from_roi\n",
    "import os\n",
    "\n",
    "# --- Paramètres ---\n",
    "BD_FORET_PATH = \"../../data/project/FORMATION_VEGETALE.shp\"  # Chemin vers la BD Forêt\n",
    "RASTER_S2_PATH = \"../../data/images/SENTINEL2B_20220326-105856-076_L2A_T31TCJ_C_V3-0_FRE_B2.tif\"  # Chemin vers le raster Sentinel-2\n",
    "RASTERIZED_VECTOR_PATH = \"../results/data/sample/rasterized_vector.tif\"  # Rasterisation temporaire\n",
    "OUTPUT_SAMPLES_PATH = \"../results/data/sample/Sample_BD_foret_T31TCJ.shp\"  # Chemin pour sauvegarder les échantillons\n",
    "\n",
    "# Liste des codes TFV d'intérêt\n",
    "CODE_TFV_VALUES = [\n",
    "    \"Forêt fermée d’un autre feuillu pur\",\n",
    "    \"Forêt fermée de châtaignier pur\",\n",
    "    \"Forêt fermée de hêtre pur\",\n",
    "    \"Forêt fermée de chênes décidus purs\",\n",
    "    \"Forêt fermée de robinier pur\",\n",
    "    \"Peuplerai\",\n",
    "    \"Forêt fermée à mélange de feuillus\",\n",
    "    \"Forêt fermée de feuillus purs en îlots\",\n",
    "    \"Forêt fermée d’un autre conifère pur autre que pin\",\n",
    "    \"Forêt fermée de mélèze pur\",\n",
    "    \"Forêt fermée de sapin ou épicéa\",\n",
    "    \"Forêt fermée à mélange d’autres conifères\",\n",
    "    \"Forêt fermée d’un autre pin pur\",\n",
    "    \"Forêt fermée de pin sylvestre pur\",\n",
    "    \"Forêt fermée à mélange de pins purs\",\n",
    "    \"Forêt fermée de douglas pur\",\n",
    "    \"Forêt fermée de pin laricio ou pin noir pur\",\n",
    "    \"Forêt fermée de pin maritime pur\",\n",
    "    \"Forêt fermée à mélange de conifères\",\n",
    "    \"Forêt fermée de conifères en îlots\",\n",
    "    \"Forêt fermée à mélange de conifères prépondérants et feuillus\",\n",
    "    \"Forêt fermée à mélange de feuillus prépondérants et conifères\"\n",
    "]\n",
    "\n",
    "# --- Fonction principale ---\n",
    "def rasterize_and_sample(bd_foret_path, raster_s2_path, rasterized_vector_path, output_samples_path, code_tfv_values):\n",
    "    # Charger la BD Forêt\n",
    "    bd_foret = gpd.read_file(bd_foret_path)\n",
    "    print(\"BD Forêt chargée\")\n",
    "\n",
    "    # Filtrer par les valeurs de Code TFV\n",
    "    bd_foret_filtered = bd_foret[bd_foret['TFV'].isin(code_tfv_values)]\n",
    "    print(f\"Nombre de polygones après filtrage des codes TFV : {len(bd_foret_filtered)}\")\n",
    "\n",
    "    # Sauvegarder le vecteur filtré temporairement\n",
    "    filtered_vector_path = \"../results/data/sample/filtered_bd_foret.shp\"\n",
    "    bd_foret_filtered.to_file(filtered_vector_path)\n",
    "    print(\"Vecteur filtré sauvegardé temporairement\")\n",
    "\n",
    "    # Rasteriser le vecteur filtré en utilisant la fonction rasterization\n",
    "    rasterization(filtered_vector_path, raster_s2_path, rasterized_vector_path, field_name=\"TFV\")\n",
    "    print(\"Rasterisation terminée\")\n",
    "\n",
    "    # Extraire les échantillons avec la fonction get_samples_from_roi\n",
    "    samples, labels, coordinates = get_samples_from_roi(raster_s2_path, rasterized_vector_path)\n",
    "    print(f\"Nombre d'échantillons extraits : {samples.shape[0]}\")\n",
    "\n",
    "    # Sauvegarder les échantillons\n",
    "    np.save(output_samples_path, samples)\n",
    "    print(f\"Échantillons sauvegardés dans : {output_samples_path}\")\n",
    "\n",
    "    # Nettoyage des fichiers temporaires\n",
    "    os.remove(filtered_vector_path)\n",
    "    os.remove(rasterized_vector_path)\n",
    "    print(\"Fichiers temporaires supprimés\")\n",
    "\n",
    "# --- Exécution du code ---\n",
    "rasterize_and_sample(BD_FORET_PATH, RASTER_S2_PATH, RASTERIZED_VECTOR_PATH, OUTPUT_SAMPLES_PATH, CODE_TFV_VALUES)\n"
   ]
  }
 ],
 "metadata": {
  "kernelspec": {
   "display_name": "base",
   "language": "python",
   "name": "python3"
  },
  "language_info": {
   "codemirror_mode": {
    "name": "ipython",
    "version": 3
   },
   "file_extension": ".py",
   "mimetype": "text/x-python",
   "name": "python",
   "nbconvert_exporter": "python",
   "pygments_lexer": "ipython3",
   "version": "3.12.6"
  }
 },
 "nbformat": 4,
 "nbformat_minor": 2
}
