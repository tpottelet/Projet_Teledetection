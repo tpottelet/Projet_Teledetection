{
 "cells": [
  {
   "cell_type": "code",
   "execution_count": null,
   "metadata": {},
   "outputs": [
    {
     "name": "stdout",
     "output_type": "stream",
     "text": [
      "Étape 1: Filtrage des classes TFV valides...\n",
      "Étape 2: Rasterisation des polygones...\n",
      "Étape 3: Extraction des pixels avec get_samples_from_roi...\n",
      "Impossible to open ../results/data/sample/rasterized_roi.tif\n"
     ]
    },
    {
     "name": "stderr",
     "output_type": "stream",
     "text": [
      "/opt/conda/lib/python3.12/site-packages/osgeo/gdal.py:311: FutureWarning: Neither gdal.UseExceptions() nor gdal.DontUseExceptions() has been explicitly called. In GDAL 4.0, exceptions will be enabled by default.\n",
      "  warnings.warn(\n"
     ]
    },
    {
     "ename": "AttributeError",
     "evalue": "'NoneType' object has no attribute 'RasterXSize'",
     "output_type": "error",
     "traceback": [
      "\u001b[0;31m---------------------------------------------------------------------------\u001b[0m",
      "\u001b[0;31mAttributeError\u001b[0m                            Traceback (most recent call last)",
      "Cell \u001b[0;32mIn[5], line 65\u001b[0m\n\u001b[1;32m     63\u001b[0m \u001b[38;5;28mprint\u001b[39m(\u001b[38;5;124m\"\u001b[39m\u001b[38;5;124mÉtape 3: Extraction des pixels avec get_samples_from_roi...\u001b[39m\u001b[38;5;124m\"\u001b[39m)\n\u001b[1;32m     64\u001b[0m \u001b[38;5;66;03m# Utilisation de get_samples_from_roi pour extraire les pixels correspondant aux polygones\u001b[39;00m\n\u001b[0;32m---> 65\u001b[0m X, Y, t \u001b[38;5;241m=\u001b[39m \u001b[43mget_samples_from_roi\u001b[49m\u001b[43m(\u001b[49m\n\u001b[1;32m     66\u001b[0m \u001b[43m    \u001b[49m\u001b[43mraster_name\u001b[49m\u001b[38;5;241;43m=\u001b[39;49m\u001b[43mref_raster_path\u001b[49m\u001b[43m,\u001b[49m\n\u001b[1;32m     67\u001b[0m \u001b[43m    \u001b[49m\u001b[43mroi_name\u001b[49m\u001b[38;5;241;43m=\u001b[39;49m\u001b[43moutput_rasterized_path\u001b[49m\u001b[43m,\u001b[49m\n\u001b[1;32m     68\u001b[0m \u001b[43m    \u001b[49m\u001b[43mvalue_to_extract\u001b[49m\u001b[38;5;241;43m=\u001b[39;49m\u001b[38;5;28;43;01mNone\u001b[39;49;00m\u001b[43m,\u001b[49m\u001b[43m  \u001b[49m\u001b[38;5;66;43;03m# Extraire toutes les valeurs correspondant aux polygones\u001b[39;49;00m\n\u001b[1;32m     69\u001b[0m \u001b[43m    \u001b[49m\u001b[43mbands\u001b[49m\u001b[38;5;241;43m=\u001b[39;49m\u001b[38;5;28;43;01mNone\u001b[39;49;00m\u001b[43m,\u001b[49m\u001b[43m             \u001b[49m\u001b[38;5;66;43;03m# Extraire toutes les bandes\u001b[39;49;00m\n\u001b[1;32m     70\u001b[0m \u001b[43m    \u001b[49m\u001b[43moutput_fmt\u001b[49m\u001b[38;5;241;43m=\u001b[39;49m\u001b[38;5;124;43m'\u001b[39;49m\u001b[38;5;124;43mfull_matrix\u001b[39;49m\u001b[38;5;124;43m'\u001b[39;49m\n\u001b[1;32m     71\u001b[0m \u001b[43m)\u001b[49m\n\u001b[1;32m     73\u001b[0m \u001b[38;5;28mprint\u001b[39m(\u001b[38;5;124mf\u001b[39m\u001b[38;5;124m\"\u001b[39m\u001b[38;5;124mNombre de pixels extraits : \u001b[39m\u001b[38;5;132;01m{\u001b[39;00mX\u001b[38;5;241m.\u001b[39mshape[\u001b[38;5;241m0\u001b[39m]\u001b[38;5;132;01m}\u001b[39;00m\u001b[38;5;124m\"\u001b[39m)\n\u001b[1;32m     75\u001b[0m \u001b[38;5;66;03m# --- Étape 4 : Créer un fichier vecteur final avec les attributs demandés ---\u001b[39;00m\n",
      "File \u001b[0;32m~/work/libsigma/classification.py:82\u001b[0m, in \u001b[0;36mget_samples_from_roi\u001b[0;34m(raster_name, roi_name, value_to_extract, bands, output_fmt)\u001b[0m\n\u001b[1;32m     79\u001b[0m numpy_data_type \u001b[38;5;241m=\u001b[39m rw\u001b[38;5;241m.\u001b[39mconvert_data_type_from_gdal_to_numpy(gdal_data_type)\n\u001b[1;32m     81\u001b[0m \u001b[38;5;66;03m# Check if is roi is raster or vector dataset\u001b[39;00m\n\u001b[0;32m---> 82\u001b[0m roi \u001b[38;5;241m=\u001b[39m rw\u001b[38;5;241m.\u001b[39mopen_image(roi_name)\n\u001b[1;32m     84\u001b[0m \u001b[38;5;28;01mif\u001b[39;00m (raster\u001b[38;5;241m.\u001b[39mRasterXSize \u001b[38;5;241m!=\u001b[39m roi\u001b[38;5;241m.\u001b[39mRasterXSize) \u001b[38;5;129;01mor\u001b[39;00m \\\n\u001b[1;32m     85\u001b[0m         (raster\u001b[38;5;241m.\u001b[39mRasterYSize \u001b[38;5;241m!=\u001b[39m roi\u001b[38;5;241m.\u001b[39mRasterYSize):\n\u001b[1;32m     86\u001b[0m     \u001b[38;5;28mprint\u001b[39m(\u001b[38;5;124m'\u001b[39m\u001b[38;5;124mImages should be of the same size\u001b[39m\u001b[38;5;124m'\u001b[39m)\n",
      "\u001b[0;31mAttributeError\u001b[0m: 'NoneType' object has no attribute 'RasterXSize'"
     ]
    }
   ],
   "source": [
    "import sys\n",
    "import os\n",
    "sys.path.append('/home/onyxia/work/libsigma')\n",
    "import geopandas as gpd\n",
    "from shapely.geometry import box\n",
    "from classification import rasterization, get_samples_from_roi\n",
    "import read_and_write as rw\n",
    "from osgeo import gdal\n",
    "\n",
    "# --- Paramètres ---\n",
    "input_vector_path = \"../../data/project/FORMATION_VEGETALE.shp\"  # Chemin vers la BD Forêt\n",
    "ref_raster_path = \"../../data/images/SENTINEL2B_20220326-105856-076_L2A_T31TCJ_C_V3-0_FRE_B2.tif\"  # Raster Sentinel-2 de référence\n",
    "output_rasterized_path = \"../results/data/sample/rasterized_roi.tif\"\n",
    "output_folder = \"../results/data/sample\"\n",
    "output_file = os.path.join(output_folder, \"Sample_BD_foret_T31TCJ.shp\")\n",
    "\n",
    "# Liste des classes valides (colonne \"Code TFV BD forêt\")\n",
    "codes_tfv_valides = [\n",
    "    \"Forêt fermée d’un autre feuillu pur\",\n",
    "    \"Forêt fermée de châtaignier pur\",\n",
    "    \"Forêt fermée de hêtre pur\",\n",
    "    \"Forêt fermée de chênes décidus purs\",\n",
    "    \"Forêt fermée de robinier pur\",\n",
    "    \"Peuplerai\",\n",
    "    \"Forêt fermée à mélange de feuillus\",\n",
    "    \"Forêt fermée de feuillus purs en îlots\",\n",
    "    \"Forêt fermée d’un autre conifère pur autre que pin\",\n",
    "    \"Forêt fermée de mélèze pur\",\n",
    "    \"Forêt fermée de sapin ou épicéa\",\n",
    "    \"Forêt fermée à mélange d’autres conifères\",\n",
    "    \"Forêt fermée d’un autre pin pur\",\n",
    "    \"Forêt fermée de pin sylvestre pur\",\n",
    "    \"Forêt fermée à mélange de pins purs\",\n",
    "    \"Forêt fermée de douglas pur\",\n",
    "    \"Forêt fermée de pin laricio ou pin noir pur\",\n",
    "    \"Forêt fermée de pin maritime pur\",\n",
    "    \"Forêt fermée à mélange de conifères\",\n",
    "    \"Forêt fermée de conifères en îlots\",\n",
    "    \"Forêt fermée à mélange de conifères prépondérants et feuillus\",\n",
    "    \"Forêt fermée à mélange de feuillus prépondérants et conifères\"\n",
    "]\n",
    "\n",
    "# Création du dossier de sortie si inexistant\n",
    "os.makedirs(output_folder, exist_ok=True)\n",
    "\n",
    "# --- Étape 1 : Filtrer les polygones par les classes TFV ---\n",
    "print(\"Étape 1: Filtrage des classes TFV valides...\")\n",
    "bd_foret = gpd.read_file(input_vector_path)\n",
    "bd_foret_filtered = bd_foret[bd_foret[\"TFV\"].isin(codes_tfv_valides)]\n",
    "\n",
    "# --- Étape 2 : Rasterisation pour générer un masque ---\n",
    "print(\"Étape 2: Rasterisation des polygones...\")\n",
    "rasterization(\n",
    "    in_vector=input_vector_path,\n",
    "    ref_image=ref_raster_path,\n",
    "    out_image=output_rasterized_path,\n",
    "    field_name=\"TFV\"\n",
    ")\n",
    "\n",
    "# --- Étape 3 : Extraction des échantillons avec get_samples_from_roi ---\n",
    "print(\"Étape 3: Extraction des pixels avec get_samples_from_roi...\")\n",
    "# Utilisation de get_samples_from_roi pour extraire les pixels correspondant aux polygones\n",
    "X, Y, t = get_samples_from_roi(\n",
    "    raster_name=ref_raster_path,\n",
    "    roi_name=output_rasterized_path,\n",
    "    value_to_extract=None,  # Extraire toutes les valeurs correspondant aux polygones\n",
    "    bands=None,             # Extraire toutes les bandes\n",
    "    output_fmt='full_matrix'\n",
    ")\n",
    "\n",
    "print(f\"Nombre de pixels extraits : {X.shape[0]}\")\n",
    "\n",
    "# --- Étape 4 : Créer un fichier vecteur final avec les attributs demandés ---\n",
    "print(\"Étape 4: Création du fichier vecteur final...\")\n",
    "# Convertir les résultats en GeoDataFrame pour sauvegarde\n",
    "geometry = [box(t[1][i], t[0][i], t[1][i], t[0][i]) for i in range(len(t[0]))]\n",
    "sample_gdf = gpd.GeoDataFrame({\"Code\": Y.flatten(), \"Nom\": \"Classified Pixel\"}, geometry=geometry)\n",
    "\n",
    "# Sauvegarder le fichier vecteur\n",
    "sample_gdf.to_file(output_file, driver=\"ESRI Shapefile\")\n",
    "\n",
    "print(f\"Fichier final créé : {output_file}\")\n"
   ]
  }
 ],
 "metadata": {
  "kernelspec": {
   "display_name": "base",
   "language": "python",
   "name": "python3"
  },
  "language_info": {
   "codemirror_mode": {
    "name": "ipython",
    "version": 3
   },
   "file_extension": ".py",
   "mimetype": "text/x-python",
   "name": "python",
   "nbconvert_exporter": "python",
   "pygments_lexer": "ipython3",
   "version": "3.12.6"
  }
 },
 "nbformat": 4,
 "nbformat_minor": 2
}
