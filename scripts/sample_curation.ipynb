{
 "cells": [
  {
   "cell_type": "code",
   "execution_count": 1,
   "metadata": {},
   "outputs": [],
   "source": [
    "import geopandas as gpd\n",
    "import pandas as pd\n",
    "from shapely.geometry import box\n",
    "import os\n",
    "\n",
    "# Chemins des fichiers\n",
    "shp_path = \"../../data/project/FORMATION_VEGETALE.shp\"  # Shapefile d'entrée\n",
    "emprise_shp_path = \"../../data/project/emprise_etude.shp\"  # Shapefile d'emprise\n",
    "output_path = \"../results/data/sample/Sample_BD_foret_T31TCJ.shp\"  # Shapefile de sortie\n",
    "\n",
    "# Charger le shapefile d'entrée\n",
    "gdf = gpd.read_file(shp_path)\n",
    "\n",
    "# Charger le shapefile d'emprise\n",
    "emprise_gdf = gpd.read_file(emprise_shp_path)\n",
    "\n",
    "# Attributs TFV à traiter et leurs correspondances\n",
    "mapping = {\n",
    "    \"Forêt fermée d’un autre feuillu pur\": (\"Autres Feuillus\", 11, \"Autres feuillus\", 11),\n",
    "    \"Forêt fermée de châtaignier pur\": (\"Autres Feuillus\", 11, \"Autres feuillus\", 11),\n",
    "    \"Forêt fermée de hêtre pur\": (\"Autres Feuillus\", 11, \"Autres feuillus\", 11),\n",
    "    \"Forêt fermée de chênes décidus purs\": (\"Chêne\", 12, \"Chêne\", 12),\n",
    "    \"Forêt fermée de robinier pur\": (\"Robinier\", 13, \"Robinier\", 13),\n",
    "    \"Peupleraie\": (\"Peupleraie\", 14, \"Peupleraie\", 14),\n",
    "    \"Forêt fermée à mélange de feuillus\": (None, None, \"Mélange de feuillus\", 15),\n",
    "    \"Forêt fermée de feuillus purs en îlots\": (None, None, \"feuillus en îlots\", 16),\n",
    "    \"Forêt fermée d’un autre conifère pur autre que pin\": (\"Autres conifères autre que pin\", 21, \"Autres conifères autre que pin\", 21),\n",
    "    \"Forêt fermée de mélèze pur\": (\"Autres conifères autre que pin\", 21, \"Autres conifères autre que pin\", 21),\n",
    "    \"Forêt fermée de sapin ou épicéa\": (\"Autres conifères autre que pin\", 21, \"Autres conifères autre que pin\", 21),\n",
    "    \"Forêt fermée à mélange d’autres conifères\": (\"Autres conifères autre que pin\", 21, \"Autres conifères autre que pin\", 21),\n",
    "    \"Forêt fermée d’un autre pin pur\": (\"Autres pin\", 22, \"Autres pin\", 22),\n",
    "    \"Forêt fermée de pin sylvestre pur\": (\"Autres pin\", 22, \"Autres pin\", 22),\n",
    "    \"Forêt fermée à mélange de pins purs\": (\"Autres pin\", 22, \"Autres pin\", 22),\n",
    "    \"Forêt fermée de douglas pur\": (\"Douglas\", 23, \"Douglas\", 23),\n",
    "    \"Forêt fermée de pin laricio ou pin noir pur\": (\"Pin laricio ou pin noir\", 24, \"Pin laricio ou pin noir\", 24),\n",
    "    \"Forêt fermée de pin maritime pur\": (\"Pin maritime\", 25, \"Pin maritime\", 25),\n",
    "    \"Forêt fermée à mélange de conifères\": (None, None, \"Mélange conifères\", 26),\n",
    "    \"Forêt fermée de conifères en îlots\": (None, None, \"Conifères en îlots\", 27),\n",
    "    \"Forêt fermée à mélange de conifères prépondérants et feuillus\": (None, None, \"Mélange de conifères prépondérants et feuillus\", 28),\n",
    "    \"Forêt fermée à mélange de feuillus prépondérants et conifères\": (None, None, \"Mélange de feuillus prépondérants et conifères\", 29),\n",
    "}"
   ]
  },
  {
   "cell_type": "code",
   "execution_count": 2,
   "metadata": {},
   "outputs": [
    {
     "name": "stdout",
     "output_type": "stream",
     "text": [
      "Les colonnes 'Nom_pixel', 'Code_pixel', 'Nom_objet', et 'Code_objet' ont été créées avec succès.\n",
      "Fichier shapefile temporaire créé : ../results/data/sample/Sample_BD_foret_T31TCJ.shp\n"
     ]
    }
   ],
   "source": [
    "# Ajouter les nouveaux champs \"Nom\" et \"Code\" (2 fois pour pixel et objet)\n",
    "def map_tfv(tfv):\n",
    "    return mapping.get(tfv, (None, None, None, None))  # Toujours retourner 4 éléments\n",
    "\n",
    "# Vérifiez que la colonne \"TFV\" existe\n",
    "if \"TFV\" in gdf.columns:\n",
    "    # Appliquer le mappage et créer les colonnes\n",
    "    mapped_values = gdf[\"TFV\"].apply(map_tfv)\n",
    "    mapped_df = pd.DataFrame(mapped_values.tolist(), columns=[\"Nom_pixel\", \"Code_pixel\", \"Nom_objet\", \"Code_objet\"])\n",
    "    \n",
    "    # Ajouter les colonnes mappées au GeoDataFrame\n",
    "    gdf = pd.concat([gdf, mapped_df], axis=1)\n",
    "    \n",
    "    # Supprimer les objets dont la valeur de \"TFV\" n'est pas dans le dictionnaire mapping\n",
    "    gdf = gdf[gdf[\"TFV\"].isin(mapping.keys())]\n",
    "    \n",
    "    print(\"Les colonnes 'Nom_pixel', 'Code_pixel', 'Nom_objet', et 'Code_objet' ont été créées avec succès.\")\n",
    "else:\n",
    "    raise ValueError(\"Erreur : La colonne 'TFV' est absente du GeoDataFrame. Impossible de créer les nouvelles colonnes.\")\n",
    "\n",
    "# Sauvegarder le fichier shapefile temporaire\n",
    "gdf.to_file(output_path, driver=\"ESRI Shapefile\")\n",
    "print(f\"Fichier shapefile temporaire créé : {output_path}\")"
   ]
  },
  {
   "cell_type": "code",
   "execution_count": 3,
   "metadata": {},
   "outputs": [
    {
     "name": "stderr",
     "output_type": "stream",
     "text": [
      "/tmp/ipykernel_376405/2104086327.py:5: DeprecationWarning: The 'unary_union' attribute is deprecated, use the 'union_all()' method instead.\n",
      "  gdf_clipped = gdf[gdf.geometry.intersects(emprise_gdf.geometry.unary_union)]\n"
     ]
    },
    {
     "name": "stdout",
     "output_type": "stream",
     "text": [
      "Shapefile découpé créé : ../results/data/sample/Sample_BD_foret_T31TCJ.shp\n"
     ]
    }
   ],
   "source": [
    "# Reprojeter le shapefile d'emprise pour correspondre au système de coordonnées du raster\n",
    "emprise_gdf = emprise_gdf.to_crs(gdf.crs)\n",
    "\n",
    "# Découper le shapefile d'entrée en utilisant l'emprise du shapefile\n",
    "gdf_clipped = gdf[gdf.geometry.intersects(emprise_gdf.geometry.unary_union)]\n",
    "\n",
    "# Sauvegarder le fichier shapefile final\n",
    "gdf_clipped.to_file(output_path, driver=\"ESRI Shapefile\")\n",
    "print(f\"Shapefile découpé créé : {output_path}\")"
   ]
  }
 ],
 "metadata": {
  "kernelspec": {
   "display_name": "base",
   "language": "python",
   "name": "python3"
  },
  "language_info": {
   "codemirror_mode": {
    "name": "ipython",
    "version": 3
   },
   "file_extension": ".py",
   "mimetype": "text/x-python",
   "name": "python",
   "nbconvert_exporter": "python",
   "pygments_lexer": "ipython3",
   "version": "3.12.6"
  }
 },
 "nbformat": 4,
 "nbformat_minor": 2
}
