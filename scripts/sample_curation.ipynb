{
 "cells": [
  {
   "cell_type": "code",
   "execution_count": 19,
   "metadata": {},
   "outputs": [],
   "source": [
    "import geopandas as gpd\n",
    "import pandas as pd\n",
    "from osgeo import gdal, ogr\n",
    "from shapely.geometry import box\n",
    "import os\n",
    "\n",
    "# Chemins des fichiers\n",
    "input_shp = \"../../data/project/FORMATION_VEGETALE.shp\"  # Shapefile d'entrée\n",
    "input_raster = \"../../data/images/SENTINEL2B_20220326-105856-076_L2A_T31TCJ_C_V3-0_FRE_B2.tif\"  # Raster d'entrée\n",
    "output_shp = \"../results/data/sample/Sample_BD_foret_T31TCJ.shp\"  # Shapefile de sortie\n",
    "temp_raster = \"../results/data/sample/temp_reprojected.tif\"  # Raster temporaire\n",
    "\n",
    "# Charger le shapefile\n",
    "gdf = gpd.read_file(input_shp)\n",
    "\n",
    "# Attributs TFV à traiter et leurs correspondances\n",
    "mapping = {\n",
    "    \"Forêt fermée d’un autre feuillu pur\": (\"Autres Feuillus\", 11, \"Autres feuillus\", 11),\n",
    "    \"Forêt fermée de châtaignier pur\": (\"Autres Feuillus\", 11, \"Autres feuillus\", 11),\n",
    "    \"Forêt fermée de hêtre pur\": (\"Autres Feuillus\", 11, \"Autres feuillus\", 11),\n",
    "    \"Forêt fermée de chênes décidus purs\": (\"Chêne\", 12, \"Chêne\", 12),\n",
    "    \"Forêt fermée de robinier pur\": (\"Robinier\", 13, \"Robinier\", 13),\n",
    "    \"Peuplerai\": (\"Peupleraie\", 14, \"Peupleraie\", 14),\n",
    "    \"Forêt fermée à mélange de feuillus\": (None, None, \"Mélange de feuillus\", 15),\n",
    "    \"Forêt fermée de feuillus purs en îlots\": (None, None, \"feuillus en îlots\", 16),\n",
    "    \"Forêt fermée d’un autre conifère pur autre que pin\": (\"Autres conifères autre que pin\", 21, \"Autres conifères autre que pin\", 21),\n",
    "    \"Forêt fermée de mélèze pur\": (\"Autres conifères autre que pin\", 21, \"Autres conifères autre que pin\", 21),\n",
    "    \"Forêt fermée de sapin ou épicéa\": (\"Autres conifères autre que pin\", 21, \"Autres conifères autre que pin\", 21),\n",
    "    \"Forêt fermée à mélange d’autres conifères\": (\"Autres conifères autre que pin\", 21, \"Autres conifères autre que pin\", 21),\n",
    "    \"Forêt fermée d’un autre pin pur\": (\"Autres pin\", 22, \"Autres pin\", 22),\n",
    "    \"Forêt fermée de pin sylvestre pur\": (\"Autres pin\", 22, \"Autres pin\", 22),\n",
    "    \"Forêt fermée à mélange de pins purs\": (\"Autres pin\", 22, \"Autres pin\", 22),\n",
    "    \"Forêt fermée de douglas pur\": (\"Douglas\", 23, \"Douglas\", 23),\n",
    "    \"Forêt fermée de pin laricio ou pin noir pur\": (\"Pin laricio ou pin noir\", 24, \"Pin laricio ou pin noir\", 24),\n",
    "    \"Forêt fermée de pin maritime pur\": (\"Pin maritime\", 25, \"Pin maritime\", 25),\n",
    "    \"Forêt fermée à mélange de conifères\": (None, None, \"Mélange conifères\", 26),\n",
    "    \"Forêt fermée de conifères en îlots\": (None, None, \"Conifères en îlots\", 27),\n",
    "    \"Forêt fermée à mélange de conifères prépondérants et feuillus\": (None, None, \"Mélange de conifères prépondérants et feuillus\", 28),\n",
    "    \"Forêt fermée à mélange de feuillus prépondérants et conifères\": (None, None, \"Mélange de feuillus prépondérants et conifères\", 29),\n",
    "}"
   ]
  },
  {
   "cell_type": "code",
   "execution_count": 20,
   "metadata": {},
   "outputs": [
    {
     "name": "stdout",
     "output_type": "stream",
     "text": [
      "Les colonnes 'Nom_pixel', 'Code_pixel', 'Nom_objet', et 'Code_objet' ont été créées avec succès.\n",
      "Fichier shapefile temporaire créé : ../results/data/sample/Sample_BD_foret_T31TCJ.shp\n"
     ]
    }
   ],
   "source": [
    "# Ajouter les nouveaux champs \"Nom\" et \"Code\" (2 fois pour pixel et objet)\n",
    "def map_tfv(tfv):\n",
    "    return mapping.get(tfv, (None, None, None, None))  # Toujours retourner 4 éléments\n",
    "\n",
    "# Vérifiez que la colonne \"TFV\" existe\n",
    "if \"TFV\" in gdf.columns:\n",
    "    # Appliquer le mappage et créer les colonnes\n",
    "    mapped_values = gdf[\"TFV\"].apply(map_tfv)\n",
    "    mapped_df = pd.DataFrame(mapped_values.tolist(), columns=[\"Nom_pixel\", \"Code_pixel\", \"Nom_objet\", \"Code_objet\"])\n",
    "    \n",
    "    # Ajouter les colonnes mappées au GeoDataFrame\n",
    "    gdf = pd.concat([gdf, mapped_df], axis=1)\n",
    "    \n",
    "    # Supprimer les objets dont la valeur de \"TFV\" n'est pas dans le dictionnaire mapping\n",
    "    gdf = gdf[gdf[\"TFV\"].isin(mapping.keys())]\n",
    "    \n",
    "    print(\"Les colonnes 'Nom_pixel', 'Code_pixel', 'Nom_objet', et 'Code_objet' ont été créées avec succès.\")\n",
    "else:\n",
    "    raise ValueError(\"Erreur : La colonne 'TFV' est absente du GeoDataFrame. Impossible de créer les nouvelles colonnes.\")\n",
    "\n",
    "# Sauvegarder le fichier shapefile temporaire\n",
    "gdf.to_file(output_shp, driver=\"ESRI Shapefile\")\n",
    "print(f\"Fichier shapefile temporaire créé : {output_shp}\")"
   ]
  },
  {
   "cell_type": "code",
   "execution_count": 21,
   "metadata": {},
   "outputs": [
    {
     "name": "stdout",
     "output_type": "stream",
     "text": [
      "Raster temporaire reprojeté créé : ../results/data/sample/temp_reprojected.tif\n"
     ]
    }
   ],
   "source": [
    "# Charger le raster avec GDAL\n",
    "raster = gdal.Open(input_raster)\n",
    "\n",
    "# Récupérer le système de coordonnées du shapefile (EPSG:2154)\n",
    "shp_crs = gdf.crs.to_string()\n",
    "\n",
    "# Reprojection du raster\n",
    "gdal.Warp(temp_raster, raster, dstSRS=shp_crs)\n",
    "print(f\"Raster temporaire reprojeté créé : {temp_raster}\")"
   ]
  },
  {
   "cell_type": "code",
   "execution_count": 22,
   "metadata": {},
   "outputs": [
    {
     "name": "stdout",
     "output_type": "stream",
     "text": [
      "Shapefile découpé créé : ../results/data/sample/Sample_BD_foret_T31TCJ.shp\n"
     ]
    }
   ],
   "source": [
    "# Charger le raster reprojeté\n",
    "raster_reprojected = gdal.Open(temp_raster)\n",
    "\n",
    "# Découper le shapefile par les limites du raster\n",
    "transform = raster_reprojected.GetGeoTransform()\n",
    "xmin = transform[0]\n",
    "xmax = xmin + transform[1] * raster_reprojected.RasterXSize\n",
    "ymax = transform[3]\n",
    "ymin = ymax + transform[5] * raster_reprojected.RasterYSize\n",
    "raster_bounds = box(xmin, ymin, xmax, ymax)\n",
    "\n",
    "# Charger le shapefile temporaire et effectuer la découpe\n",
    "gdf_temp = gpd.read_file(output_shp)\n",
    "gdf_clipped = gdf_temp[gdf_temp.geometry.intersects(raster_bounds)]\n",
    "\n",
    "# Sauvegarder le fichier shapefile final\n",
    "gdf_clipped.to_file(output_shp, driver=\"ESRI Shapefile\")\n",
    "print(f\"Shapefile découpé créé : {output_shp}\")"
   ]
  },
  {
   "cell_type": "code",
   "execution_count": 23,
   "metadata": {},
   "outputs": [
    {
     "name": "stdout",
     "output_type": "stream",
     "text": [
      "Fichiers temporaires supprimés.\n"
     ]
    }
   ],
   "source": [
    "# Nettoyer les fichiers temporaires\n",
    "if os.path.exists(temp_raster):\n",
    "    os.remove(temp_raster)\n",
    "\n",
    "print(\"Fichiers temporaires supprimés.\")"
   ]
  }
 ],
 "metadata": {
  "kernelspec": {
   "display_name": "base",
   "language": "python",
   "name": "python3"
  },
  "language_info": {
   "codemirror_mode": {
    "name": "ipython",
    "version": 3
   },
   "file_extension": ".py",
   "mimetype": "text/x-python",
   "name": "python",
   "nbconvert_exporter": "python",
   "pygments_lexer": "ipython3",
   "version": "3.12.6"
  }
 },
 "nbformat": 4,
 "nbformat_minor": 2
}
