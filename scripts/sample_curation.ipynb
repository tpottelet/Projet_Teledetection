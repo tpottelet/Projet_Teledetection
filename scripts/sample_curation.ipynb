{
 "cells": [
  {
   "cell_type": "code",
   "execution_count": 3,
   "metadata": {},
   "outputs": [
    {
     "name": "stdout",
     "output_type": "stream",
     "text": [
      "Colonnes disponibles dans la BD Forêt : Index(['ID', 'CODE_TFV', 'TFV', 'TFV_G11', 'ESSENCE', 'geometry'], dtype='object')\n",
      "Le fichier shapefile a été sauvegardé à : ../results/data/sample/Sample_BD_foret_T31TCJ.shp\n"
     ]
    }
   ],
   "source": [
    "import geopandas as gpd\n",
    "import pandas as pd\n",
    "\n",
    "# Charger la BD Forêt\n",
    "bd_foret_path = \"../../data/project/FORMATION_VEGETALE.shp\"  # Remplacez par le chemin vers votre fichier BD Forêt\n",
    "bd_foret = gpd.read_file(bd_foret_path)\n",
    "\n",
    "# Afficher les colonnes pour vérifier le bon nom de celles-ci\n",
    "print(\"Colonnes disponibles dans la BD Forêt :\", bd_foret.columns)\n",
    "\n",
    "# Liste des classes à prendre en compte pour la classification à l'échelle du pixel\n",
    "classes_incluses_pixel = [\n",
    "    'Forêt fermée de feuillus purs',\n",
    "    'Forêt fermée de résineux',\n",
    "    'Forêt fermée de feuillus et résineux mélangés',\n",
    "    'Forêt fermée de châtaignier pur'\n",
    "]\n",
    "\n",
    "# Liste des classes à prendre en compte pour la classification à l'échelle des peuplements\n",
    "classes_incluses_peuplement = [\n",
    "    'Forêt fermée de feuillus purs en îlots',\n",
    "    'Forêt fermée de châtaignier pur',\n",
    "    'Forêt fermée d’un autre feuillu pur'\n",
    "]\n",
    "\n",
    "# Appliquer la sélection des classes à l'échelle du pixel (en excluant les classes symbolisées par Ø)\n",
    "bd_foret_pixel = bd_foret[bd_foret['TFV'].isin(classes_incluses_pixel)]\n",
    "\n",
    "# Appliquer la sélection des classes à l'échelle des peuplements\n",
    "bd_foret_peuplement = bd_foret[bd_foret['TFV'].isin(classes_incluses_peuplement)]\n",
    "\n",
    "# Concaténer les deux DataFrames pour avoir toutes les classes pertinentes\n",
    "bd_foret_final = pd.concat([bd_foret_pixel, bd_foret_peuplement])\n",
    "\n",
    "# Sélectionner les colonnes requises : TFV, Code, et les attributs existants\n",
    "# Si 'CODE' n'existe pas, vous devrez peut-être ajuster en fonction du nom exact de la colonne pour le code.\n",
    "bd_foret_final = bd_foret_final[['TFV', 'CODE_TFV'] + [col for col in bd_foret.columns if col not in ['TFV', 'CODE_TFV']]]\n",
    "\n",
    "# Enregistrer le fichier shapefile final\n",
    "output_path = \"../results/data/sample/Sample_BD_foret_T31TCJ.shp\"\n",
    "bd_foret_final.to_file(output_path)\n",
    "\n",
    "# Affichage d'un message pour confirmer l'exécution\n",
    "print(f\"Le fichier shapefile a été sauvegardé à : {output_path}\")\n"
   ]
  }
 ],
 "metadata": {
  "kernelspec": {
   "display_name": "base",
   "language": "python",
   "name": "python3"
  },
  "language_info": {
   "codemirror_mode": {
    "name": "ipython",
    "version": 3
   },
   "file_extension": ".py",
   "mimetype": "text/x-python",
   "name": "python",
   "nbconvert_exporter": "python",
   "pygments_lexer": "ipython3",
   "version": "3.12.6"
  }
 },
 "nbformat": 4,
 "nbformat_minor": 2
}
