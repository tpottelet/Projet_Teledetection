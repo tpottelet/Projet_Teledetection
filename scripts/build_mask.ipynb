{
 "cells": [
  {
   "cell_type": "code",
   "execution_count": 4,
   "metadata": {},
   "outputs": [
    {
     "name": "stdout",
     "output_type": "stream",
     "text": [
      "Masque forêt généré : ../results/data/img_pretraitees/masque_foret.tif\n"
     ]
    }
   ],
   "source": [
    "from osgeo import gdal, ogr\n",
    "import numpy as np\n",
    "import os\n",
    "\n",
    "def build_forest_mask(shapefile_path, raster_template_path, output_path):\n",
    "    # Charger le shapefile\n",
    "    shapefile = ogr.Open(shapefile_path)\n",
    "    layer_name = os.path.splitext(os.path.basename(shapefile_path))[0]\n",
    "    layer = shapefile.GetLayer()\n",
    "\n",
    "    # Charger les informations du raster modèle\n",
    "    raster_template = gdal.Open(raster_template_path)\n",
    "    geo_transform = raster_template.GetGeoTransform()\n",
    "    projection = raster_template.GetProjection()\n",
    "    x_size = raster_template.RasterXSize\n",
    "    y_size = raster_template.RasterYSize\n",
    "\n",
    "    # Créer un raster temporaire en mémoire\n",
    "    driver = gdal.GetDriverByName('GTiff')\n",
    "    target_ds = driver.Create(\n",
    "        output_path, x_size, y_size, 1, gdal.GDT_Byte\n",
    "    )\n",
    "    target_ds.SetGeoTransform(geo_transform)\n",
    "    target_ds.SetProjection(projection)\n",
    "\n",
    "    # Initialiser le raster avec la valeur 0 (zones hors forêt)\n",
    "    band = target_ds.GetRasterBand(1)\n",
    "    band.SetNoDataValue(0)\n",
    "    band.WriteArray(np.zeros((y_size, x_size), dtype=np.uint8))\n",
    "\n",
    "    # Appliquer un script SQL pour sélectionner les zones de forêt\n",
    "    sql_query = (\n",
    "        f\"SELECT * FROM {layer_name} WHERE CODE_TFV NOT IN ('LA4', 'LA6', 'FO0', 'FO1')\"\n",
    "    )\n",
    "    sql_layer = shapefile.ExecuteSQL(sql_query)\n",
    "\n",
    "    # Créer une image rasterisée en mémoire avec les zones de forêt\n",
    "    gdal.RasterizeLayer(\n",
    "        target_ds, [1], sql_layer,\n",
    "        burn_values=[1],\n",
    "        options=[\"ATTRIBUTE=CODE_TFV\"]\n",
    "    )\n",
    "\n",
    "    # Libérer les ressources SQL\n",
    "    shapefile.ReleaseResultSet(sql_layer)\n",
    "\n",
    "    # Fermer les fichiers\n",
    "    band.FlushCache()\n",
    "    band = None\n",
    "    target_ds = None\n",
    "    shapefile = None\n",
    "\n",
    "if __name__ == \"__main__\":\n",
    "    # Chemins vers les fichiers nécessaires\n",
    "    shapefile_path = \"../../data/project/FORMATION_VEGETALE.shp\"\n",
    "    raster_template_path = \"../../data/images/SENTINEL2B_20220326-105856-076_L2A_T31TCJ_C_V3-0_FRE_B2.tif\"\n",
    "    output_path = \"../results/data/img_pretraitees/masque_foret.tif\"\n",
    "\n",
    "    # Créer le masque\n",
    "    build_forest_mask(shapefile_path, raster_template_path, output_path)\n",
    "    print(f\"Masque forêt généré : {output_path}\")\n"
   ]
  }
 ],
 "metadata": {
  "kernelspec": {
   "display_name": "base",
   "language": "python",
   "name": "python3"
  },
  "language_info": {
   "codemirror_mode": {
    "name": "ipython",
    "version": 3
   },
   "file_extension": ".py",
   "mimetype": "text/x-python",
   "name": "python",
   "nbconvert_exporter": "python",
   "pygments_lexer": "ipython3",
   "version": "3.12.6"
  }
 },
 "nbformat": 4,
 "nbformat_minor": 2
}
