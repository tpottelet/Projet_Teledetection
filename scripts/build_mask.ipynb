{
 "cells": [
  {
   "cell_type": "code",
   "execution_count": 1,
   "metadata": {},
   "outputs": [
    {
     "name": "stderr",
     "output_type": "stream",
     "text": [
      "/opt/conda/lib/python3.12/site-packages/osgeo/gdal.py:311: FutureWarning: Neither gdal.UseExceptions() nor gdal.DontUseExceptions() has been explicitly called. In GDAL 4.0, exceptions will be enabled by default.\n",
      "  warnings.warn(\n"
     ]
    },
    {
     "name": "stdout",
     "output_type": "stream",
     "text": [
      "Mask successfully created at ../results/data/img_pretraitees/masque_foret.tif\n"
     ]
    }
   ],
   "source": [
    "from osgeo import gdal, gdal_array, ogr\n",
    "import numpy as np\n",
    "import os\n",
    "\n",
    "#Chemin vers l'image d'entrée\n",
    "band_path = \"../../data/images\"\n",
    "band_template = os.path.join(band_path, \"SENTINEL2B_20220326-105856-076_L2A_T31TCJ_C_V3-0_FRE_B2.tif\")\n",
    "\n",
    "#Chemin pour le fichier de masque en sortie\n",
    "output_mask_path = \"../results/data/img_pretraitees/masque_foret.tif\"\n",
    "\n",
    "#Chemin pour le fichier vecteur BD Forêt\n",
    "vector_foret_path = \"../../data/project\"\n",
    "form_vege = os.path.join(vector_foret_path,\"FORMATION_VEGETALE.shp\")\n",
    "\n",
    "#Charger l'image raster\n",
    "dataset = gdal.Open(band_template)\n",
    "band = dataset.GetRasterBand(1)  # Charger une bande spécifique (par exemple, la bande 1)\n",
    "\n",
    "#Charger le vecteur (BD Forêt avec les colonnes attributaires)\n",
    "vector_ds = ogr.Open(form_vege)\n",
    "layer = vector_ds.GetLayer()\n",
    "\n",
    "#Définir les valeurs de TFV à exclure\n",
    "excluded_tfv = [\n",
    "    'FO0', 'FO1', 'FO2', 'FO3', 'LA4', 'LA6'\n",
    "]\n",
    "\n",
    "#Créer un raster temporaire pour les zones à inclure\n",
    "raster_ds = gdal.Open(band_template)\n",
    "raster_geotransform = raster_ds.GetGeoTransform()\n",
    "raster_projection = raster_ds.GetProjection()\n",
    "cols = raster_ds.RasterXSize\n",
    "rows = raster_ds.RasterYSize\n",
    "\n",
    "#Créer un raster de sortie (1 = à classer, 0 = à exclure)\n",
    "driver = gdal.GetDriverByName(\"GTiff\")\n",
    "mask_ds = driver.Create(output_mask_path, cols, rows, 1, gdal.GDT_Byte)\n",
    "mask_ds.SetGeoTransform(raster_geotransform)\n",
    "mask_ds.SetProjection(raster_projection)\n",
    "\n",
    "#Rasteriser les polygones à inclure\n",
    "mask_band = mask_ds.GetRasterBand(1)\n",
    "mask_band.Fill(0)  # Par défaut, exclure tout\n",
    "mask_band.SetNoDataValue(0)\n",
    "\n",
    "#Appliquer un filtre pour inclure uniquement les polygones avec des TFV non exclus\n",
    "excluded_tfv_str = \"', '\".join(excluded_tfv)\n",
    "layer.SetAttributeFilter(f\"CODE_TFV NOT IN ('{excluded_tfv_str}')\")\n",
    "\n",
    "# Rasteriser les polygones filtrés dans le masque\n",
    "gdal.RasterizeLayer(mask_ds, [1], layer, burn_values=[1])  # 1 = à classer\n",
    "\n",
    "#Nettoyer les objets\n",
    "mask_band.FlushCache()\n",
    "mask_ds = None\n",
    "vector_ds = None\n",
    "raster_ds = None\n",
    "\n",
    "print(f\"Mask successfully created at {output_mask_path}\")"
   ]
  }
 ],
 "metadata": {
  "kernelspec": {
   "display_name": "base",
   "language": "python",
   "name": "python3"
  },
  "language_info": {
   "codemirror_mode": {
    "name": "ipython",
    "version": 3
   },
   "file_extension": ".py",
   "mimetype": "text/x-python",
   "name": "python",
   "nbconvert_exporter": "python",
   "pygments_lexer": "ipython3",
   "version": "3.12.6"
  }
 },
 "nbformat": 4,
 "nbformat_minor": 2
}
