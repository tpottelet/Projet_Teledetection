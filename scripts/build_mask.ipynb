{
 "cells": [
  {
   "cell_type": "code",
   "execution_count": 1,
   "metadata": {},
   "outputs": [],
   "source": [
    "from osgeo import gdal, ogr\n",
    "import geopandas as gpd\n",
    "import os\n",
    "\n",
    "# Chemin pour le fichier de masque en sortie\n",
    "output_mask_path = \"../results/data/img_pretraitees/masque_foret.tif\"\n",
    "\n",
    "# Chemin pour le fichier vecteur BD Forêt\n",
    "shp_path = \"../../data/project\"\n",
    "shp_name = os.path.join(shp_path, \"FORMATION_VEGETALE.shp\")\n",
    "\n",
    "# Chemin pour le fichier shapefile emprise d'étude\n",
    "emprise_shp_path = os.path.join(shp_path, \"emprise_etude.shp\")"
   ]
  },
  {
   "cell_type": "code",
   "execution_count": 2,
   "metadata": {},
   "outputs": [],
   "source": [
    "# Charger la couche vecteur BD Forêt\n",
    "vector = gpd.read_file(shp_name)\n",
    "\n",
    "# Charger la couche vecteur \"emprise_etude.shp\" pour récupérer son emprise\n",
    "emprise = gpd.read_file(emprise_shp_path)"
   ]
  },
  {
   "cell_type": "code",
   "execution_count": 3,
   "metadata": {},
   "outputs": [
    {
     "name": "stdout",
     "output_type": "stream",
     "text": [
      "10862 7380\n"
     ]
    },
    {
     "name": "stderr",
     "output_type": "stream",
     "text": [
      "/opt/conda/lib/python3.12/site-packages/osgeo/gdal.py:311: FutureWarning: Neither gdal.UseExceptions() nor gdal.DontUseExceptions() has been explicitly called. In GDAL 4.0, exceptions will be enabled by default.\n",
      "  warnings.warn(\n"
     ]
    }
   ],
   "source": [
    "# Extraire l'emprise de \"emprise_etude.shp\" (min, max x, min, max y)\n",
    "x_min, y_min, x_max, y_max = emprise.total_bounds\n",
    "\n",
    "# Définir les valeurs de TFV à exclure\n",
    "excluded_tfv = ['FO0', 'FO1', 'FO2', 'FO3', 'LA4', 'LA6']\n",
    "excluded_tfv_str = \"', '\".join(excluded_tfv)\n",
    "\n",
    "# Filtrer les polygones dans la couche BD Forêt (en excluant les TFV)\n",
    "vector = vector[~vector['CODE_TFV'].isin(excluded_tfv)]  # Appliquer le filtre TFV à exclure\n",
    "\n",
    "# Définir la taille des pixels (par exemple 30 mètres)\n",
    "pixel_size = 10  # En mètres\n",
    "\n",
    "# Calculer les dimensions du raster\n",
    "cols = int(((x_max - x_min) / pixel_size)-1)\n",
    "rows = int((y_max - y_min) / pixel_size)\n",
    "\n",
    "# Créer un raster de sortie avec GDAL\n",
    "driver = gdal.GetDriverByName(\"GTiff\")\n",
    "mask_ds = driver.Create(output_mask_path, cols, rows, 1, gdal.GDT_Byte)\n",
    "\n",
    "print(cols,rows)"
   ]
  },
  {
   "cell_type": "code",
   "execution_count": 4,
   "metadata": {},
   "outputs": [
    {
     "name": "stderr",
     "output_type": "stream",
     "text": [
      "/opt/conda/lib/python3.12/site-packages/osgeo/gdal.py:8580: RuntimeWarning: Failed to fetch spatial reference on layer temp_layer to build transformer, assuming matching coordinate systems.\n",
      "  return _gdal.RasterizeLayer(*args, **kwargs)\n"
     ]
    },
    {
     "name": "stdout",
     "output_type": "stream",
     "text": [
      "Masque créé avec l'emprise de 'emprise_etude.shp' : ../results/data/img_pretraitees/masque_foret.tif\n"
     ]
    }
   ],
   "source": [
    "# Définir la géotransformation et la projection du raster\n",
    "transform = (x_min, pixel_size, 0, y_max, 0, -pixel_size)  # Géotransformation\n",
    "mask_ds.SetGeoTransform(transform)\n",
    "\n",
    "# Définir la projection en utilisant l'emprise (projection WKT)\n",
    "spatial_ref = emprise.crs.to_wkt()  # Récupérer la projection de l'emprise en WKT\n",
    "mask_ds.SetProjection(spatial_ref)\n",
    "\n",
    "# Initialiser la bande du raster et la remplir de 0 (valeur par défaut : à exclure)\n",
    "mask_band = mask_ds.GetRasterBand(1)\n",
    "mask_band.Fill(0)  # Par défaut, exclure tout\n",
    "mask_band.SetNoDataValue(0)\n",
    "\n",
    "# Créer une couche vectorielle temporaire pour stocker les polygones\n",
    "driver_ogr = ogr.GetDriverByName('Memory')  # Utiliser un driver mémoire pour créer la couche\n",
    "layer_name = 'temp_layer'\n",
    "memory_ds = driver_ogr.CreateDataSource('temp')\n",
    "layer = memory_ds.CreateLayer(layer_name, geom_type=ogr.wkbPolygon)\n",
    "\n",
    "# Ajouter un champ attributaire pour le code TFV\n",
    "layer.CreateField(ogr.FieldDefn('CODE_TFV', ogr.OFTString))\n",
    "\n",
    "# Ajouter les polygones filtrés dans la couche mémoire\n",
    "for _, row in vector.iterrows():\n",
    "    geometry = row['geometry']\n",
    "    \n",
    "    # Vérifier si la géométrie est valide\n",
    "    if geometry.is_valid:\n",
    "        feature = ogr.Feature(layer.GetLayerDefn())\n",
    "        feature.SetGeometry(ogr.CreateGeometryFromWkb(geometry.wkb))\n",
    "        feature.SetField('CODE_TFV', row['CODE_TFV'])\n",
    "        layer.CreateFeature(feature)\n",
    "\n",
    "# Rasteriser la couche mémoire\n",
    "gdal.RasterizeLayer(mask_ds, [1], layer, burn_values=[1])  # 1 = à classer\n",
    "\n",
    "# Nettoyer la cache et fermer les objets\n",
    "mask_band.FlushCache()\n",
    "mask_ds = None\n",
    "memory_ds = None  # Supprimer la couche mémoire\n",
    "print(f\"Masque créé avec l'emprise de 'emprise_etude.shp' : {output_mask_path}\")"
   ]
  }
 ],
 "metadata": {
  "kernelspec": {
   "display_name": "base",
   "language": "python",
   "name": "python3"
  },
  "language_info": {
   "codemirror_mode": {
    "name": "ipython",
    "version": 3
   },
   "file_extension": ".py",
   "mimetype": "text/x-python",
   "name": "python",
   "nbconvert_exporter": "python",
   "pygments_lexer": "ipython3",
   "version": "3.12.6"
  }
 },
 "nbformat": 4,
 "nbformat_minor": 2
}
